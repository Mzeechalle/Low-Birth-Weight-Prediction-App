{
 "cells": [
  {
   "cell_type": "markdown",
   "id": "b81cee98",
   "metadata": {},
   "source": [
    "# Explolatory Data Analysis For TDHS-MIS2022 Dataset"
   ]
  },
  {
   "attachments": {},
   "cell_type": "markdown",
   "id": "30721453-0363-42a6-8b6e-5251c74ccae7",
   "metadata": {},
   "source": [
    "## Understanding the problem\n",
    "\n",
    "Low Birth Weight (LWB) is a major contributor to **neonatal mortality**. The LBW infants who survive infancy are at increased risk of long-term consequences such as **neurodevelopmental problems**, **stunting**, **respiratory disorders**, **lower IQ**, and **adult-onset chronic diseases**. Additionally, when LBW girls become mothers, they are more likely to deliver LBW infants themselves. Thus, reducing the incidence of LBW has public health implications that are lifelong and inter-generational.\n",
    "\n",
    "Therefore, the main objective of this study is to determine the **risk factors** of low birth weight and **predict low birth weight** babies based on machine learning algorithms. Keep in mind that, whether a baby is born **premature** or **at term** (on time) but didn't grow enough during pregnancy, they can be classified as a low birth weight baby, and **by definition**, A LBW baby weighs **less than 2500 grams**, or 5 lbs, 5 oz.\n",
    "\n"
   ]
  },
  {
   "cell_type": "markdown",
   "id": "b0058cac",
   "metadata": {},
   "source": [
    "## Type of the Problem\n",
    "\n",
    "At first glance, the problem can be treated as a regression problem, but for convinience, we decided to treat it as a **classification** problem where we have to determine the risk factors of low birth weight and predict low birth weight babies using artificial intelligence techniques."
   ]
  },
  {
   "cell_type": "markdown",
   "id": "6885dcf5",
   "metadata": {},
   "source": [
    "## Load Python Packages"
   ]
  },
  {
   "cell_type": "code",
   "execution_count": 3,
   "id": "ead3b90d",
   "metadata": {
    "scrolled": true
   },
   "outputs": [],
   "source": [
    "import pandas as pd\n",
    "import numpy as np\n",
    "import matplotlib.pyplot as plt\n",
    "import seaborn as sns  \n",
    "import warnings\n",
    "warnings.filterwarnings('ignore')"
   ]
  },
  {
   "cell_type": "markdown",
   "id": "127db4a9",
   "metadata": {},
   "source": [
    "## Load Dataset"
   ]
  },
  {
   "cell_type": "code",
   "execution_count": 4,
   "id": "eea07502",
   "metadata": {},
   "outputs": [],
   "source": [
    "# Import data\n",
    "data= pd.read_csv('/Users/kalokola/group5/Low-Birth-Weight-Prediction-app/DATA/original_dataset.csv')"
   ]
  },
  {
   "cell_type": "code",
   "execution_count": 5,
   "id": "847704fb",
   "metadata": {},
   "outputs": [
    {
     "data": {
      "text/plain": [
       "(10783, 1325)"
      ]
     },
     "execution_count": 5,
     "metadata": {},
     "output_type": "execute_result"
    }
   ],
   "source": [
    "# Print shape of dataset imported\n",
    "data.shape"
   ]
  },
  {
   "cell_type": "code",
   "execution_count": 6,
   "id": "acfe3134",
   "metadata": {},
   "outputs": [
    {
     "data": {
      "text/html": [
       "<div>\n",
       "<style scoped>\n",
       "    .dataframe tbody tr th:only-of-type {\n",
       "        vertical-align: middle;\n",
       "    }\n",
       "\n",
       "    .dataframe tbody tr th {\n",
       "        vertical-align: top;\n",
       "    }\n",
       "\n",
       "    .dataframe thead th {\n",
       "        text-align: right;\n",
       "    }\n",
       "</style>\n",
       "<table border=\"1\" class=\"dataframe\">\n",
       "  <thead>\n",
       "    <tr style=\"text-align: right;\">\n",
       "      <th></th>\n",
       "      <th>Unnamed: 0</th>\n",
       "      <th>caseid</th>\n",
       "      <th>bidx</th>\n",
       "      <th>v000</th>\n",
       "      <th>v001</th>\n",
       "      <th>v002</th>\n",
       "      <th>v003</th>\n",
       "      <th>v004</th>\n",
       "      <th>v005</th>\n",
       "      <th>v006</th>\n",
       "      <th>...</th>\n",
       "      <th>s631as</th>\n",
       "      <th>s631at</th>\n",
       "      <th>s631au</th>\n",
       "      <th>s631av</th>\n",
       "      <th>s631aw</th>\n",
       "      <th>s631ax</th>\n",
       "      <th>s631ay</th>\n",
       "      <th>s631az</th>\n",
       "      <th>s633b</th>\n",
       "      <th>s633c</th>\n",
       "    </tr>\n",
       "  </thead>\n",
       "  <tbody>\n",
       "    <tr>\n",
       "      <th>0</th>\n",
       "      <td>0</td>\n",
       "      <td>1   9  2</td>\n",
       "      <td>1</td>\n",
       "      <td>TZ8</td>\n",
       "      <td>1</td>\n",
       "      <td>9</td>\n",
       "      <td>2</td>\n",
       "      <td>1</td>\n",
       "      <td>1409657</td>\n",
       "      <td>4</td>\n",
       "      <td>...</td>\n",
       "      <td>NaN</td>\n",
       "      <td>NaN</td>\n",
       "      <td>NaN</td>\n",
       "      <td>NaN</td>\n",
       "      <td>NaN</td>\n",
       "      <td>NaN</td>\n",
       "      <td>NaN</td>\n",
       "      <td>NaN</td>\n",
       "      <td>NaN</td>\n",
       "      <td>NaN</td>\n",
       "    </tr>\n",
       "    <tr>\n",
       "      <th>1</th>\n",
       "      <td>1</td>\n",
       "      <td>1  16  1</td>\n",
       "      <td>1</td>\n",
       "      <td>TZ8</td>\n",
       "      <td>1</td>\n",
       "      <td>16</td>\n",
       "      <td>1</td>\n",
       "      <td>1</td>\n",
       "      <td>1409657</td>\n",
       "      <td>4</td>\n",
       "      <td>...</td>\n",
       "      <td>NaN</td>\n",
       "      <td>NaN</td>\n",
       "      <td>NaN</td>\n",
       "      <td>NaN</td>\n",
       "      <td>NaN</td>\n",
       "      <td>NaN</td>\n",
       "      <td>NaN</td>\n",
       "      <td>NaN</td>\n",
       "      <td>NaN</td>\n",
       "      <td>NaN</td>\n",
       "    </tr>\n",
       "    <tr>\n",
       "      <th>2</th>\n",
       "      <td>2</td>\n",
       "      <td>1  30  2</td>\n",
       "      <td>1</td>\n",
       "      <td>TZ8</td>\n",
       "      <td>1</td>\n",
       "      <td>30</td>\n",
       "      <td>2</td>\n",
       "      <td>1</td>\n",
       "      <td>1409657</td>\n",
       "      <td>4</td>\n",
       "      <td>...</td>\n",
       "      <td>NaN</td>\n",
       "      <td>NaN</td>\n",
       "      <td>NaN</td>\n",
       "      <td>NaN</td>\n",
       "      <td>NaN</td>\n",
       "      <td>NaN</td>\n",
       "      <td>NaN</td>\n",
       "      <td>NaN</td>\n",
       "      <td>NaN</td>\n",
       "      <td>NaN</td>\n",
       "    </tr>\n",
       "    <tr>\n",
       "      <th>3</th>\n",
       "      <td>3</td>\n",
       "      <td>1  41  2</td>\n",
       "      <td>1</td>\n",
       "      <td>TZ8</td>\n",
       "      <td>1</td>\n",
       "      <td>41</td>\n",
       "      <td>2</td>\n",
       "      <td>1</td>\n",
       "      <td>1409657</td>\n",
       "      <td>4</td>\n",
       "      <td>...</td>\n",
       "      <td>NaN</td>\n",
       "      <td>NaN</td>\n",
       "      <td>NaN</td>\n",
       "      <td>NaN</td>\n",
       "      <td>NaN</td>\n",
       "      <td>NaN</td>\n",
       "      <td>NaN</td>\n",
       "      <td>NaN</td>\n",
       "      <td>NaN</td>\n",
       "      <td>NaN</td>\n",
       "    </tr>\n",
       "    <tr>\n",
       "      <th>4</th>\n",
       "      <td>4</td>\n",
       "      <td>1  41  2</td>\n",
       "      <td>2</td>\n",
       "      <td>TZ8</td>\n",
       "      <td>1</td>\n",
       "      <td>41</td>\n",
       "      <td>2</td>\n",
       "      <td>1</td>\n",
       "      <td>1409657</td>\n",
       "      <td>4</td>\n",
       "      <td>...</td>\n",
       "      <td>NaN</td>\n",
       "      <td>NaN</td>\n",
       "      <td>NaN</td>\n",
       "      <td>NaN</td>\n",
       "      <td>NaN</td>\n",
       "      <td>NaN</td>\n",
       "      <td>NaN</td>\n",
       "      <td>NaN</td>\n",
       "      <td>NaN</td>\n",
       "      <td>NaN</td>\n",
       "    </tr>\n",
       "  </tbody>\n",
       "</table>\n",
       "<p>5 rows × 1325 columns</p>\n",
       "</div>"
      ],
      "text/plain": [
       "   Unnamed: 0           caseid  bidx v000  v001  v002  v003  v004     v005  \\\n",
       "0           0         1   9  2     1  TZ8     1     9     2     1  1409657   \n",
       "1           1         1  16  1     1  TZ8     1    16     1     1  1409657   \n",
       "2           2         1  30  2     1  TZ8     1    30     2     1  1409657   \n",
       "3           3         1  41  2     1  TZ8     1    41     2     1  1409657   \n",
       "4           4         1  41  2     2  TZ8     1    41     2     1  1409657   \n",
       "\n",
       "   v006  ...  s631as  s631at  s631au  s631av  s631aw  s631ax  s631ay  s631az  \\\n",
       "0     4  ...     NaN     NaN     NaN     NaN     NaN     NaN     NaN     NaN   \n",
       "1     4  ...     NaN     NaN     NaN     NaN     NaN     NaN     NaN     NaN   \n",
       "2     4  ...     NaN     NaN     NaN     NaN     NaN     NaN     NaN     NaN   \n",
       "3     4  ...     NaN     NaN     NaN     NaN     NaN     NaN     NaN     NaN   \n",
       "4     4  ...     NaN     NaN     NaN     NaN     NaN     NaN     NaN     NaN   \n",
       "\n",
       "   s633b  s633c  \n",
       "0    NaN    NaN  \n",
       "1    NaN    NaN  \n",
       "2    NaN    NaN  \n",
       "3    NaN    NaN  \n",
       "4    NaN    NaN  \n",
       "\n",
       "[5 rows x 1325 columns]"
      ]
     },
     "execution_count": 6,
     "metadata": {},
     "output_type": "execute_result"
    }
   ],
   "source": [
    "# Print five first records/rows of imported dataset\n",
    "data.head()"
   ]
  },
  {
   "cell_type": "code",
   "execution_count": 7,
   "id": "f63ad340",
   "metadata": {},
   "outputs": [
    {
     "data": {
      "text/html": [
       "<div>\n",
       "<style scoped>\n",
       "    .dataframe tbody tr th:only-of-type {\n",
       "        vertical-align: middle;\n",
       "    }\n",
       "\n",
       "    .dataframe tbody tr th {\n",
       "        vertical-align: top;\n",
       "    }\n",
       "\n",
       "    .dataframe thead th {\n",
       "        text-align: right;\n",
       "    }\n",
       "</style>\n",
       "<table border=\"1\" class=\"dataframe\">\n",
       "  <thead>\n",
       "    <tr style=\"text-align: right;\">\n",
       "      <th></th>\n",
       "      <th>Unnamed: 0</th>\n",
       "      <th>caseid</th>\n",
       "      <th>bidx</th>\n",
       "      <th>v000</th>\n",
       "      <th>v001</th>\n",
       "      <th>v002</th>\n",
       "      <th>v003</th>\n",
       "      <th>v004</th>\n",
       "      <th>v005</th>\n",
       "      <th>v006</th>\n",
       "      <th>...</th>\n",
       "      <th>s631as</th>\n",
       "      <th>s631at</th>\n",
       "      <th>s631au</th>\n",
       "      <th>s631av</th>\n",
       "      <th>s631aw</th>\n",
       "      <th>s631ax</th>\n",
       "      <th>s631ay</th>\n",
       "      <th>s631az</th>\n",
       "      <th>s633b</th>\n",
       "      <th>s633c</th>\n",
       "    </tr>\n",
       "  </thead>\n",
       "  <tbody>\n",
       "    <tr>\n",
       "      <th>10778</th>\n",
       "      <td>10778</td>\n",
       "      <td>629  87  2</td>\n",
       "      <td>1</td>\n",
       "      <td>TZ8</td>\n",
       "      <td>629</td>\n",
       "      <td>87</td>\n",
       "      <td>2</td>\n",
       "      <td>629</td>\n",
       "      <td>141449</td>\n",
       "      <td>6</td>\n",
       "      <td>...</td>\n",
       "      <td>NaN</td>\n",
       "      <td>NaN</td>\n",
       "      <td>NaN</td>\n",
       "      <td>NaN</td>\n",
       "      <td>NaN</td>\n",
       "      <td>NaN</td>\n",
       "      <td>NaN</td>\n",
       "      <td>NaN</td>\n",
       "      <td>NaN</td>\n",
       "      <td>NaN</td>\n",
       "    </tr>\n",
       "    <tr>\n",
       "      <th>10779</th>\n",
       "      <td>10779</td>\n",
       "      <td>629  87  2</td>\n",
       "      <td>2</td>\n",
       "      <td>TZ8</td>\n",
       "      <td>629</td>\n",
       "      <td>87</td>\n",
       "      <td>2</td>\n",
       "      <td>629</td>\n",
       "      <td>141449</td>\n",
       "      <td>6</td>\n",
       "      <td>...</td>\n",
       "      <td>NaN</td>\n",
       "      <td>NaN</td>\n",
       "      <td>NaN</td>\n",
       "      <td>NaN</td>\n",
       "      <td>NaN</td>\n",
       "      <td>NaN</td>\n",
       "      <td>NaN</td>\n",
       "      <td>NaN</td>\n",
       "      <td>NaN</td>\n",
       "      <td>NaN</td>\n",
       "    </tr>\n",
       "    <tr>\n",
       "      <th>10780</th>\n",
       "      <td>10780</td>\n",
       "      <td>629  87  2</td>\n",
       "      <td>3</td>\n",
       "      <td>TZ8</td>\n",
       "      <td>629</td>\n",
       "      <td>87</td>\n",
       "      <td>2</td>\n",
       "      <td>629</td>\n",
       "      <td>141449</td>\n",
       "      <td>6</td>\n",
       "      <td>...</td>\n",
       "      <td>NaN</td>\n",
       "      <td>NaN</td>\n",
       "      <td>NaN</td>\n",
       "      <td>NaN</td>\n",
       "      <td>NaN</td>\n",
       "      <td>NaN</td>\n",
       "      <td>NaN</td>\n",
       "      <td>NaN</td>\n",
       "      <td>NaN</td>\n",
       "      <td>NaN</td>\n",
       "    </tr>\n",
       "    <tr>\n",
       "      <th>10781</th>\n",
       "      <td>10781</td>\n",
       "      <td>629  91  1</td>\n",
       "      <td>1</td>\n",
       "      <td>TZ8</td>\n",
       "      <td>629</td>\n",
       "      <td>91</td>\n",
       "      <td>1</td>\n",
       "      <td>629</td>\n",
       "      <td>141449</td>\n",
       "      <td>6</td>\n",
       "      <td>...</td>\n",
       "      <td>NaN</td>\n",
       "      <td>NaN</td>\n",
       "      <td>NaN</td>\n",
       "      <td>NaN</td>\n",
       "      <td>NaN</td>\n",
       "      <td>NaN</td>\n",
       "      <td>NaN</td>\n",
       "      <td>NaN</td>\n",
       "      <td>NaN</td>\n",
       "      <td>NaN</td>\n",
       "    </tr>\n",
       "    <tr>\n",
       "      <th>10782</th>\n",
       "      <td>10782</td>\n",
       "      <td>629  91  1</td>\n",
       "      <td>2</td>\n",
       "      <td>TZ8</td>\n",
       "      <td>629</td>\n",
       "      <td>91</td>\n",
       "      <td>1</td>\n",
       "      <td>629</td>\n",
       "      <td>141449</td>\n",
       "      <td>6</td>\n",
       "      <td>...</td>\n",
       "      <td>NaN</td>\n",
       "      <td>NaN</td>\n",
       "      <td>NaN</td>\n",
       "      <td>NaN</td>\n",
       "      <td>NaN</td>\n",
       "      <td>NaN</td>\n",
       "      <td>NaN</td>\n",
       "      <td>NaN</td>\n",
       "      <td>NaN</td>\n",
       "      <td>NaN</td>\n",
       "    </tr>\n",
       "  </tbody>\n",
       "</table>\n",
       "<p>5 rows × 1325 columns</p>\n",
       "</div>"
      ],
      "text/plain": [
       "       Unnamed: 0           caseid  bidx v000  v001  v002  v003  v004    v005  \\\n",
       "10778       10778       629  87  2     1  TZ8   629    87     2   629  141449   \n",
       "10779       10779       629  87  2     2  TZ8   629    87     2   629  141449   \n",
       "10780       10780       629  87  2     3  TZ8   629    87     2   629  141449   \n",
       "10781       10781       629  91  1     1  TZ8   629    91     1   629  141449   \n",
       "10782       10782       629  91  1     2  TZ8   629    91     1   629  141449   \n",
       "\n",
       "       v006  ...  s631as  s631at  s631au  s631av  s631aw  s631ax  s631ay  \\\n",
       "10778     6  ...     NaN     NaN     NaN     NaN     NaN     NaN     NaN   \n",
       "10779     6  ...     NaN     NaN     NaN     NaN     NaN     NaN     NaN   \n",
       "10780     6  ...     NaN     NaN     NaN     NaN     NaN     NaN     NaN   \n",
       "10781     6  ...     NaN     NaN     NaN     NaN     NaN     NaN     NaN   \n",
       "10782     6  ...     NaN     NaN     NaN     NaN     NaN     NaN     NaN   \n",
       "\n",
       "       s631az  s633b  s633c  \n",
       "10778     NaN    NaN    NaN  \n",
       "10779     NaN    NaN    NaN  \n",
       "10780     NaN    NaN    NaN  \n",
       "10781     NaN    NaN    NaN  \n",
       "10782     NaN    NaN    NaN  \n",
       "\n",
       "[5 rows x 1325 columns]"
      ]
     },
     "execution_count": 7,
     "metadata": {},
     "output_type": "execute_result"
    }
   ],
   "source": [
    "# Print five last records/rows of imported dataset\n",
    "data.tail()"
   ]
  },
  {
   "attachments": {
    "e64497b5-9eb1-414d-b0d8-bae48b0ed811.png": {
     "image/png": "[encoded data removed]"
    }
   },
   "cell_type": "markdown",
   "id": "2059fbce",
   "metadata": {},
   "source": [
    "## Selecting predictor variables and target variable\n",
    "\n",
    "From the **1325** features, we selected 11 features to begin with that will act as **predictor features**, as shown below;\n",
    "\n",
    "![Predictor_features.png](attachment:e64497b5-9eb1-414d-b0d8-bae48b0ed811.png)\n",
    "\n",
    "And, the target variable of our choice is **\"m19\"** which is labeled as **\"birth weight in kilograms (3 decimals)\"**"
   ]
  },
  {
   "cell_type": "code",
   "execution_count": 8,
   "id": "e7fa2d89",
   "metadata": {},
   "outputs": [
    {
     "data": {
      "text/plain": [
       "(10783, 12)"
      ]
     },
     "execution_count": 8,
     "metadata": {},
     "output_type": "execute_result"
    }
   ],
   "source": [
    "# Defining the 10 columns to select as predictor variables\n",
    "columns_to_select = ['v012', 'v025', 'v106', 'v190', 'm14', 'm17', 'v238', 'b0', 'v445', 'v457', 'm60', 'm19']\n",
    "\n",
    "# select the columns\n",
    "New_data = data[columns_to_select]\n",
    "\n",
    "# print the head results\n",
    "New_data.shape"
   ]
  },
  {
   "cell_type": "code",
   "execution_count": 9,
   "id": "a42f50e5",
   "metadata": {},
   "outputs": [
    {
     "data": {
      "text/html": [
       "<div>\n",
       "<style scoped>\n",
       "    .dataframe tbody tr th:only-of-type {\n",
       "        vertical-align: middle;\n",
       "    }\n",
       "\n",
       "    .dataframe tbody tr th {\n",
       "        vertical-align: top;\n",
       "    }\n",
       "\n",
       "    .dataframe thead th {\n",
       "        text-align: right;\n",
       "    }\n",
       "</style>\n",
       "<table border=\"1\" class=\"dataframe\">\n",
       "  <thead>\n",
       "    <tr style=\"text-align: right;\">\n",
       "      <th></th>\n",
       "      <th>v012</th>\n",
       "      <th>v025</th>\n",
       "      <th>v106</th>\n",
       "      <th>v190</th>\n",
       "      <th>m14</th>\n",
       "      <th>m17</th>\n",
       "      <th>v238</th>\n",
       "      <th>b0</th>\n",
       "      <th>v445</th>\n",
       "      <th>v457</th>\n",
       "      <th>m60</th>\n",
       "      <th>m19</th>\n",
       "    </tr>\n",
       "  </thead>\n",
       "  <tbody>\n",
       "    <tr>\n",
       "      <th>0</th>\n",
       "      <td>42</td>\n",
       "      <td>2</td>\n",
       "      <td>0</td>\n",
       "      <td>1</td>\n",
       "      <td>NaN</td>\n",
       "      <td>NaN</td>\n",
       "      <td>0</td>\n",
       "      <td>0</td>\n",
       "      <td>2041.0</td>\n",
       "      <td>2.0</td>\n",
       "      <td>NaN</td>\n",
       "      <td>NaN</td>\n",
       "    </tr>\n",
       "    <tr>\n",
       "      <th>1</th>\n",
       "      <td>40</td>\n",
       "      <td>2</td>\n",
       "      <td>1</td>\n",
       "      <td>2</td>\n",
       "      <td>4.0</td>\n",
       "      <td>0.0</td>\n",
       "      <td>1</td>\n",
       "      <td>0</td>\n",
       "      <td>2514.0</td>\n",
       "      <td>4.0</td>\n",
       "      <td>1.0</td>\n",
       "      <td>3200.0</td>\n",
       "    </tr>\n",
       "    <tr>\n",
       "      <th>2</th>\n",
       "      <td>36</td>\n",
       "      <td>2</td>\n",
       "      <td>1</td>\n",
       "      <td>1</td>\n",
       "      <td>4.0</td>\n",
       "      <td>0.0</td>\n",
       "      <td>1</td>\n",
       "      <td>0</td>\n",
       "      <td>2268.0</td>\n",
       "      <td>4.0</td>\n",
       "      <td>1.0</td>\n",
       "      <td>9996.0</td>\n",
       "    </tr>\n",
       "    <tr>\n",
       "      <th>3</th>\n",
       "      <td>41</td>\n",
       "      <td>2</td>\n",
       "      <td>1</td>\n",
       "      <td>2</td>\n",
       "      <td>4.0</td>\n",
       "      <td>0.0</td>\n",
       "      <td>1</td>\n",
       "      <td>0</td>\n",
       "      <td>NaN</td>\n",
       "      <td>NaN</td>\n",
       "      <td>1.0</td>\n",
       "      <td>2900.0</td>\n",
       "    </tr>\n",
       "    <tr>\n",
       "      <th>4</th>\n",
       "      <td>41</td>\n",
       "      <td>2</td>\n",
       "      <td>1</td>\n",
       "      <td>2</td>\n",
       "      <td>NaN</td>\n",
       "      <td>NaN</td>\n",
       "      <td>1</td>\n",
       "      <td>0</td>\n",
       "      <td>NaN</td>\n",
       "      <td>NaN</td>\n",
       "      <td>NaN</td>\n",
       "      <td>NaN</td>\n",
       "    </tr>\n",
       "  </tbody>\n",
       "</table>\n",
       "</div>"
      ],
      "text/plain": [
       "   v012  v025  v106  v190  m14  m17  v238  b0    v445  v457  m60     m19\n",
       "0    42     2     0     1  NaN  NaN     0   0  2041.0   2.0  NaN     NaN\n",
       "1    40     2     1     2  4.0  0.0     1   0  2514.0   4.0  1.0  3200.0\n",
       "2    36     2     1     1  4.0  0.0     1   0  2268.0   4.0  1.0  9996.0\n",
       "3    41     2     1     2  4.0  0.0     1   0     NaN   NaN  1.0  2900.0\n",
       "4    41     2     1     2  NaN  NaN     1   0     NaN   NaN  NaN     NaN"
      ]
     },
     "execution_count": 9,
     "metadata": {},
     "output_type": "execute_result"
    }
   ],
   "source": [
    "New_data.head()"
   ]
  },
  {
   "cell_type": "code",
   "execution_count": 10,
   "id": "35366a84",
   "metadata": {},
   "outputs": [
    {
     "data": {
      "text/html": [
       "<div>\n",
       "<style scoped>\n",
       "    .dataframe tbody tr th:only-of-type {\n",
       "        vertical-align: middle;\n",
       "    }\n",
       "\n",
       "    .dataframe tbody tr th {\n",
       "        vertical-align: top;\n",
       "    }\n",
       "\n",
       "    .dataframe thead th {\n",
       "        text-align: right;\n",
       "    }\n",
       "</style>\n",
       "<table border=\"1\" class=\"dataframe\">\n",
       "  <thead>\n",
       "    <tr style=\"text-align: right;\">\n",
       "      <th></th>\n",
       "      <th>v012</th>\n",
       "      <th>v025</th>\n",
       "      <th>v106</th>\n",
       "      <th>v190</th>\n",
       "      <th>m14</th>\n",
       "      <th>m17</th>\n",
       "      <th>v238</th>\n",
       "      <th>b0</th>\n",
       "      <th>v445</th>\n",
       "      <th>v457</th>\n",
       "      <th>m60</th>\n",
       "      <th>m19</th>\n",
       "    </tr>\n",
       "  </thead>\n",
       "  <tbody>\n",
       "    <tr>\n",
       "      <th>10778</th>\n",
       "      <td>30</td>\n",
       "      <td>2</td>\n",
       "      <td>2</td>\n",
       "      <td>3</td>\n",
       "      <td>3.0</td>\n",
       "      <td>0.0</td>\n",
       "      <td>3</td>\n",
       "      <td>0</td>\n",
       "      <td>1875.0</td>\n",
       "      <td>4.0</td>\n",
       "      <td>0.0</td>\n",
       "      <td>4000.0</td>\n",
       "    </tr>\n",
       "    <tr>\n",
       "      <th>10779</th>\n",
       "      <td>30</td>\n",
       "      <td>2</td>\n",
       "      <td>2</td>\n",
       "      <td>3</td>\n",
       "      <td>NaN</td>\n",
       "      <td>0.0</td>\n",
       "      <td>3</td>\n",
       "      <td>2</td>\n",
       "      <td>1875.0</td>\n",
       "      <td>4.0</td>\n",
       "      <td>NaN</td>\n",
       "      <td>1500.0</td>\n",
       "    </tr>\n",
       "    <tr>\n",
       "      <th>10780</th>\n",
       "      <td>30</td>\n",
       "      <td>2</td>\n",
       "      <td>2</td>\n",
       "      <td>3</td>\n",
       "      <td>NaN</td>\n",
       "      <td>0.0</td>\n",
       "      <td>3</td>\n",
       "      <td>1</td>\n",
       "      <td>1875.0</td>\n",
       "      <td>4.0</td>\n",
       "      <td>NaN</td>\n",
       "      <td>2500.0</td>\n",
       "    </tr>\n",
       "    <tr>\n",
       "      <th>10781</th>\n",
       "      <td>33</td>\n",
       "      <td>2</td>\n",
       "      <td>2</td>\n",
       "      <td>1</td>\n",
       "      <td>5.0</td>\n",
       "      <td>0.0</td>\n",
       "      <td>1</td>\n",
       "      <td>0</td>\n",
       "      <td>NaN</td>\n",
       "      <td>NaN</td>\n",
       "      <td>1.0</td>\n",
       "      <td>9996.0</td>\n",
       "    </tr>\n",
       "    <tr>\n",
       "      <th>10782</th>\n",
       "      <td>33</td>\n",
       "      <td>2</td>\n",
       "      <td>2</td>\n",
       "      <td>1</td>\n",
       "      <td>NaN</td>\n",
       "      <td>NaN</td>\n",
       "      <td>1</td>\n",
       "      <td>0</td>\n",
       "      <td>NaN</td>\n",
       "      <td>NaN</td>\n",
       "      <td>NaN</td>\n",
       "      <td>NaN</td>\n",
       "    </tr>\n",
       "  </tbody>\n",
       "</table>\n",
       "</div>"
      ],
      "text/plain": [
       "       v012  v025  v106  v190  m14  m17  v238  b0    v445  v457  m60     m19\n",
       "10778    30     2     2     3  3.0  0.0     3   0  1875.0   4.0  0.0  4000.0\n",
       "10779    30     2     2     3  NaN  0.0     3   2  1875.0   4.0  NaN  1500.0\n",
       "10780    30     2     2     3  NaN  0.0     3   1  1875.0   4.0  NaN  2500.0\n",
       "10781    33     2     2     1  5.0  0.0     1   0     NaN   NaN  1.0  9996.0\n",
       "10782    33     2     2     1  NaN  NaN     1   0     NaN   NaN  NaN     NaN"
      ]
     },
     "execution_count": 10,
     "metadata": {},
     "output_type": "execute_result"
    }
   ],
   "source": [
    "New_data.tail()"
   ]
  },
  {
   "cell_type": "markdown",
   "id": "fe364d52",
   "metadata": {},
   "source": [
    "## Data cleaning"
   ]
  },
  {
   "cell_type": "code",
   "execution_count": 11,
   "id": "2d79700a",
   "metadata": {},
   "outputs": [
    {
     "name": "stdout",
     "output_type": "stream",
     "text": [
      "missing values: v012       0\n",
      "v025       0\n",
      "v106       0\n",
      "v190       0\n",
      "m14     4958\n",
      "m17     4209\n",
      "v238       0\n",
      "b0         0\n",
      "v445    5405\n",
      "v457    5419\n",
      "m60     4958\n",
      "m19     4209\n",
      "dtype: int64\n",
      "\n",
      "Total number of missing values is: 29158\n"
     ]
    }
   ],
   "source": [
    "# Check for missing values\n",
    "print('missing values:', New_data.isnull().sum())\n",
    "print('')\n",
    "print('Total number of missing values is:', New_data.isnull().sum().sum())"
   ]
  },
  {
   "cell_type": "code",
   "execution_count": 12,
   "id": "2300a25b-1628-4017-ae45-eba2d3cb79b4",
   "metadata": {},
   "outputs": [
    {
     "data": {
      "text/plain": [
       "(10783, 10)"
      ]
     },
     "execution_count": 12,
     "metadata": {},
     "output_type": "execute_result"
    }
   ],
   "source": [
    "# count the number of missing values in each column\n",
    "missing_counts = New_data.isnull().sum()\n",
    "\n",
    "# identify columns with more than 5000 missing values\n",
    "columns_to_drop = missing_counts[missing_counts > 5000].index\n",
    "\n",
    "# drop the columns with too many missing values\n",
    "New_data.drop(columns_to_drop, axis=1, inplace=True)\n",
    "\n",
    "New_data.shape"
   ]
  },
  {
   "cell_type": "code",
   "execution_count": 13,
   "id": "2e8724db-ce40-4b92-bf9a-63d841da1cf6",
   "metadata": {},
   "outputs": [
    {
     "data": {
      "text/html": [
       "<div>\n",
       "<style scoped>\n",
       "    .dataframe tbody tr th:only-of-type {\n",
       "        vertical-align: middle;\n",
       "    }\n",
       "\n",
       "    .dataframe tbody tr th {\n",
       "        vertical-align: top;\n",
       "    }\n",
       "\n",
       "    .dataframe thead th {\n",
       "        text-align: right;\n",
       "    }\n",
       "</style>\n",
       "<table border=\"1\" class=\"dataframe\">\n",
       "  <thead>\n",
       "    <tr style=\"text-align: right;\">\n",
       "      <th></th>\n",
       "      <th>v012</th>\n",
       "      <th>v025</th>\n",
       "      <th>v106</th>\n",
       "      <th>v190</th>\n",
       "      <th>m14</th>\n",
       "      <th>m17</th>\n",
       "      <th>v238</th>\n",
       "      <th>b0</th>\n",
       "      <th>m60</th>\n",
       "      <th>m19</th>\n",
       "    </tr>\n",
       "  </thead>\n",
       "  <tbody>\n",
       "    <tr>\n",
       "      <th>0</th>\n",
       "      <td>42</td>\n",
       "      <td>2</td>\n",
       "      <td>0</td>\n",
       "      <td>1</td>\n",
       "      <td>NaN</td>\n",
       "      <td>NaN</td>\n",
       "      <td>0</td>\n",
       "      <td>0</td>\n",
       "      <td>NaN</td>\n",
       "      <td>NaN</td>\n",
       "    </tr>\n",
       "    <tr>\n",
       "      <th>1</th>\n",
       "      <td>40</td>\n",
       "      <td>2</td>\n",
       "      <td>1</td>\n",
       "      <td>2</td>\n",
       "      <td>4.0</td>\n",
       "      <td>0.0</td>\n",
       "      <td>1</td>\n",
       "      <td>0</td>\n",
       "      <td>1.0</td>\n",
       "      <td>3200.0</td>\n",
       "    </tr>\n",
       "    <tr>\n",
       "      <th>2</th>\n",
       "      <td>36</td>\n",
       "      <td>2</td>\n",
       "      <td>1</td>\n",
       "      <td>1</td>\n",
       "      <td>4.0</td>\n",
       "      <td>0.0</td>\n",
       "      <td>1</td>\n",
       "      <td>0</td>\n",
       "      <td>1.0</td>\n",
       "      <td>9996.0</td>\n",
       "    </tr>\n",
       "    <tr>\n",
       "      <th>3</th>\n",
       "      <td>41</td>\n",
       "      <td>2</td>\n",
       "      <td>1</td>\n",
       "      <td>2</td>\n",
       "      <td>4.0</td>\n",
       "      <td>0.0</td>\n",
       "      <td>1</td>\n",
       "      <td>0</td>\n",
       "      <td>1.0</td>\n",
       "      <td>2900.0</td>\n",
       "    </tr>\n",
       "    <tr>\n",
       "      <th>4</th>\n",
       "      <td>41</td>\n",
       "      <td>2</td>\n",
       "      <td>1</td>\n",
       "      <td>2</td>\n",
       "      <td>NaN</td>\n",
       "      <td>NaN</td>\n",
       "      <td>1</td>\n",
       "      <td>0</td>\n",
       "      <td>NaN</td>\n",
       "      <td>NaN</td>\n",
       "    </tr>\n",
       "  </tbody>\n",
       "</table>\n",
       "</div>"
      ],
      "text/plain": [
       "   v012  v025  v106  v190  m14  m17  v238  b0  m60     m19\n",
       "0    42     2     0     1  NaN  NaN     0   0  NaN     NaN\n",
       "1    40     2     1     2  4.0  0.0     1   0  1.0  3200.0\n",
       "2    36     2     1     1  4.0  0.0     1   0  1.0  9996.0\n",
       "3    41     2     1     2  4.0  0.0     1   0  1.0  2900.0\n",
       "4    41     2     1     2  NaN  NaN     1   0  NaN     NaN"
      ]
     },
     "execution_count": 13,
     "metadata": {},
     "output_type": "execute_result"
    }
   ],
   "source": [
    "New_data.head()"
   ]
  },
  {
   "cell_type": "markdown",
   "id": "323d4d02",
   "metadata": {},
   "source": [
    "#### Cleaning target variable\n",
    "- For target variable **m19**, Value **'9996'** implied **'not weighed at birth'**, and Value **'9998'** stands for **'Don't know'**.\n",
    "\n",
    "- We had to remove these values plus any other null values. \n",
    "\n",
    "- We found that **4209** features were **null**, **1240** features had the **9996** value, and **176** features had the **9998** value as shown below."
   ]
  },
  {
   "cell_type": "code",
   "execution_count": 14,
   "id": "0b2494d7",
   "metadata": {},
   "outputs": [
    {
     "data": {
      "text/plain": [
       "{'not_weighted': np.int64(1240),\n",
       " 'dont_know': np.int64(176),\n",
       " 'null': np.int64(4209)}"
      ]
     },
     "execution_count": 14,
     "metadata": {},
     "output_type": "execute_result"
    }
   ],
   "source": [
    "# Checking m19 null values and specific values\n",
    "m19_unknowns = {\n",
    "    'not_weighted' :(New_data.m19 == 9996.0).sum(),\n",
    "    'dont_know' :(New_data.m19 == 9998.0).sum(),\n",
    "    'null': New_data.m19.isnull().sum()\n",
    "}\n",
    "m19_unknowns "
   ]
  },
  {
   "cell_type": "code",
   "execution_count": 15,
   "id": "3fac2cbb",
   "metadata": {},
   "outputs": [
    {
     "data": {
      "text/plain": [
       "(5158, 10)"
      ]
     },
     "execution_count": 15,
     "metadata": {},
     "output_type": "execute_result"
    }
   ],
   "source": [
    "# Removing Specific Values and Null Values from Column 'm19'\n",
    "cleaned_data = New_data[~New_data.m19.isin([9996, 9998])].dropna(subset=['m19'])\n",
    "\n",
    "# Print shape of cleaned data\n",
    "cleaned_data.shape"
   ]
  },
  {
   "cell_type": "code",
   "execution_count": 16,
   "id": "3ea3f182",
   "metadata": {},
   "outputs": [
    {
     "name": "stdout",
     "output_type": "stream",
     "text": [
      "missing values: v012      0\n",
      "v025      0\n",
      "v106      0\n",
      "v190      0\n",
      "m14     531\n",
      "m17       0\n",
      "v238      0\n",
      "b0        0\n",
      "m60     531\n",
      "m19       0\n",
      "dtype: int64\n",
      "\n",
      "Total number of missing values is: 1062\n"
     ]
    }
   ],
   "source": [
    "# Check for missing values\n",
    "print('missing values:', cleaned_data.isnull().sum())\n",
    "print('')\n",
    "print('Total number of missing values is:', cleaned_data.isnull().sum().sum())"
   ]
  },
  {
   "cell_type": "markdown",
   "id": "3690425b",
   "metadata": {},
   "source": [
    "#### Removing null and specific value for variable m14 and m60"
   ]
  },
  {
   "cell_type": "code",
   "execution_count": 17,
   "id": "6f1e6eb6",
   "metadata": {},
   "outputs": [
    {
     "data": {
      "text/plain": [
       "(4501, 10)"
      ]
     },
     "execution_count": 17,
     "metadata": {},
     "output_type": "execute_result"
    }
   ],
   "source": [
    "# Removing Specific Value and Null Values from Column 'm14' and 'm60'\n",
    "new_data = cleaned_data[~cleaned_data.m14.isin([98]) & ~cleaned_data.m14.isin([8])].dropna(subset=['m14','m60'])\n",
    "new_data.shape"
   ]
  },
  {
   "cell_type": "code",
   "execution_count": 18,
   "id": "3e734b1c",
   "metadata": {},
   "outputs": [
    {
     "name": "stdout",
     "output_type": "stream",
     "text": [
      "missing values: v012    0\n",
      "v025    0\n",
      "v106    0\n",
      "v190    0\n",
      "m14     0\n",
      "m17     0\n",
      "v238    0\n",
      "b0      0\n",
      "m60     0\n",
      "m19     0\n",
      "dtype: int64\n",
      "\n",
      "Total number of missing values is: 0\n"
     ]
    }
   ],
   "source": [
    "# Check for missing values\n",
    "print('missing values:', new_data.isnull().sum())\n",
    "print('')\n",
    "print('Total number of missing values is:', new_data.isnull().sum().sum())"
   ]
  },
  {
   "cell_type": "markdown",
   "id": "7e8a8773",
   "metadata": {},
   "source": [
    "**Now we don't have missing data in our dataset.**"
   ]
  },
  {
   "cell_type": "code",
   "execution_count": 19,
   "id": "d8d427f1",
   "metadata": {},
   "outputs": [
    {
     "name": "stdout",
     "output_type": "stream",
     "text": [
      "<class 'pandas.core.frame.DataFrame'>\n",
      "Index: 4501 entries, 1 to 10778\n",
      "Data columns (total 10 columns):\n",
      " #   Column  Non-Null Count  Dtype  \n",
      "---  ------  --------------  -----  \n",
      " 0   v012    4501 non-null   int64  \n",
      " 1   v025    4501 non-null   int64  \n",
      " 2   v106    4501 non-null   int64  \n",
      " 3   v190    4501 non-null   int64  \n",
      " 4   m14     4501 non-null   float64\n",
      " 5   m17     4501 non-null   float64\n",
      " 6   v238    4501 non-null   int64  \n",
      " 7   b0      4501 non-null   int64  \n",
      " 8   m60     4501 non-null   float64\n",
      " 9   m19     4501 non-null   float64\n",
      "dtypes: float64(4), int64(6)\n",
      "memory usage: 386.8 KB\n"
     ]
    }
   ],
   "source": [
    "# Showing some information about the dataset \n",
    "new_data.info()"
   ]
  },
  {
   "cell_type": "markdown",
   "id": "b5517e6b",
   "metadata": {},
   "source": [
    "The outshow shows the list of **variables** , **sizes** and **data types** in each variables. This will help us to know our way around **feature engineering.**"
   ]
  },
  {
   "cell_type": "code",
   "execution_count": 20,
   "id": "99fe9ae9-cc4e-4cb5-8a84-9e1bcd374021",
   "metadata": {},
   "outputs": [
    {
     "data": {
      "text/html": [
       "<div>\n",
       "<style scoped>\n",
       "    .dataframe tbody tr th:only-of-type {\n",
       "        vertical-align: middle;\n",
       "    }\n",
       "\n",
       "    .dataframe tbody tr th {\n",
       "        vertical-align: top;\n",
       "    }\n",
       "\n",
       "    .dataframe thead th {\n",
       "        text-align: right;\n",
       "    }\n",
       "</style>\n",
       "<table border=\"1\" class=\"dataframe\">\n",
       "  <thead>\n",
       "    <tr style=\"text-align: right;\">\n",
       "      <th></th>\n",
       "      <th>v012</th>\n",
       "      <th>v025</th>\n",
       "      <th>v106</th>\n",
       "      <th>v190</th>\n",
       "      <th>m14</th>\n",
       "      <th>m17</th>\n",
       "      <th>v238</th>\n",
       "      <th>b0</th>\n",
       "      <th>m60</th>\n",
       "      <th>m19</th>\n",
       "    </tr>\n",
       "  </thead>\n",
       "  <tbody>\n",
       "    <tr>\n",
       "      <th>count</th>\n",
       "      <td>4501.000000</td>\n",
       "      <td>4501.000000</td>\n",
       "      <td>4501.000000</td>\n",
       "      <td>4501.000000</td>\n",
       "      <td>4501.000000</td>\n",
       "      <td>4501.000000</td>\n",
       "      <td>4501.000000</td>\n",
       "      <td>4501.000000</td>\n",
       "      <td>4501.000000</td>\n",
       "      <td>4501.000000</td>\n",
       "    </tr>\n",
       "    <tr>\n",
       "      <th>mean</th>\n",
       "      <td>28.663408</td>\n",
       "      <td>1.677849</td>\n",
       "      <td>1.182404</td>\n",
       "      <td>3.189958</td>\n",
       "      <td>4.118196</td>\n",
       "      <td>0.131526</td>\n",
       "      <td>1.115086</td>\n",
       "      <td>0.035103</td>\n",
       "      <td>0.674739</td>\n",
       "      <td>3164.630082</td>\n",
       "    </tr>\n",
       "    <tr>\n",
       "      <th>std</th>\n",
       "      <td>7.057967</td>\n",
       "      <td>0.467352</td>\n",
       "      <td>0.691736</td>\n",
       "      <td>1.370206</td>\n",
       "      <td>1.907012</td>\n",
       "      <td>0.338013</td>\n",
       "      <td>0.328087</td>\n",
       "      <td>0.262659</td>\n",
       "      <td>0.719848</td>\n",
       "      <td>585.447428</td>\n",
       "    </tr>\n",
       "    <tr>\n",
       "      <th>min</th>\n",
       "      <td>15.000000</td>\n",
       "      <td>1.000000</td>\n",
       "      <td>0.000000</td>\n",
       "      <td>1.000000</td>\n",
       "      <td>0.000000</td>\n",
       "      <td>0.000000</td>\n",
       "      <td>1.000000</td>\n",
       "      <td>0.000000</td>\n",
       "      <td>0.000000</td>\n",
       "      <td>500.000000</td>\n",
       "    </tr>\n",
       "    <tr>\n",
       "      <th>25%</th>\n",
       "      <td>23.000000</td>\n",
       "      <td>1.000000</td>\n",
       "      <td>1.000000</td>\n",
       "      <td>2.000000</td>\n",
       "      <td>3.000000</td>\n",
       "      <td>0.000000</td>\n",
       "      <td>1.000000</td>\n",
       "      <td>0.000000</td>\n",
       "      <td>0.000000</td>\n",
       "      <td>2900.000000</td>\n",
       "    </tr>\n",
       "    <tr>\n",
       "      <th>50%</th>\n",
       "      <td>28.000000</td>\n",
       "      <td>2.000000</td>\n",
       "      <td>1.000000</td>\n",
       "      <td>3.000000</td>\n",
       "      <td>4.000000</td>\n",
       "      <td>0.000000</td>\n",
       "      <td>1.000000</td>\n",
       "      <td>0.000000</td>\n",
       "      <td>1.000000</td>\n",
       "      <td>3100.000000</td>\n",
       "    </tr>\n",
       "    <tr>\n",
       "      <th>75%</th>\n",
       "      <td>34.000000</td>\n",
       "      <td>2.000000</td>\n",
       "      <td>2.000000</td>\n",
       "      <td>4.000000</td>\n",
       "      <td>5.000000</td>\n",
       "      <td>0.000000</td>\n",
       "      <td>1.000000</td>\n",
       "      <td>0.000000</td>\n",
       "      <td>1.000000</td>\n",
       "      <td>3500.000000</td>\n",
       "    </tr>\n",
       "    <tr>\n",
       "      <th>max</th>\n",
       "      <td>49.000000</td>\n",
       "      <td>2.000000</td>\n",
       "      <td>3.000000</td>\n",
       "      <td>5.000000</td>\n",
       "      <td>16.000000</td>\n",
       "      <td>1.000000</td>\n",
       "      <td>3.000000</td>\n",
       "      <td>2.000000</td>\n",
       "      <td>8.000000</td>\n",
       "      <td>6000.000000</td>\n",
       "    </tr>\n",
       "  </tbody>\n",
       "</table>\n",
       "</div>"
      ],
      "text/plain": [
       "              v012         v025         v106         v190          m14  \\\n",
       "count  4501.000000  4501.000000  4501.000000  4501.000000  4501.000000   \n",
       "mean     28.663408     1.677849     1.182404     3.189958     4.118196   \n",
       "std       7.057967     0.467352     0.691736     1.370206     1.907012   \n",
       "min      15.000000     1.000000     0.000000     1.000000     0.000000   \n",
       "25%      23.000000     1.000000     1.000000     2.000000     3.000000   \n",
       "50%      28.000000     2.000000     1.000000     3.000000     4.000000   \n",
       "75%      34.000000     2.000000     2.000000     4.000000     5.000000   \n",
       "max      49.000000     2.000000     3.000000     5.000000    16.000000   \n",
       "\n",
       "               m17         v238           b0          m60          m19  \n",
       "count  4501.000000  4501.000000  4501.000000  4501.000000  4501.000000  \n",
       "mean      0.131526     1.115086     0.035103     0.674739  3164.630082  \n",
       "std       0.338013     0.328087     0.262659     0.719848   585.447428  \n",
       "min       0.000000     1.000000     0.000000     0.000000   500.000000  \n",
       "25%       0.000000     1.000000     0.000000     0.000000  2900.000000  \n",
       "50%       0.000000     1.000000     0.000000     1.000000  3100.000000  \n",
       "75%       0.000000     1.000000     0.000000     1.000000  3500.000000  \n",
       "max       1.000000     3.000000     2.000000     8.000000  6000.000000  "
      ]
     },
     "execution_count": 20,
     "metadata": {},
     "output_type": "execute_result"
    }
   ],
   "source": [
    "# generate descriptive statistics \n",
    "new_data.describe()"
   ]
  },
  {
   "cell_type": "markdown",
   "id": "62ab29a7-1c67-4ade-adff-91b60df1f73e",
   "metadata": {},
   "source": [
    "## Feature Engineering\n"
   ]
  },
  {
   "cell_type": "code",
   "execution_count": 21,
   "id": "c3f61860",
   "metadata": {},
   "outputs": [],
   "source": [
    "# Convert the target variable 'm19' into two classes, i.e label 1 if birth weight < 2500 else 0 if birth weight >= 2500\n",
    "new_data['m19'] = np.where(new_data['m19'] < 2500, 1, 0)"
   ]
  },
  {
   "cell_type": "code",
   "execution_count": 22,
   "id": "4d5657b3",
   "metadata": {},
   "outputs": [
    {
     "data": {
      "text/html": [
       "<div>\n",
       "<style scoped>\n",
       "    .dataframe tbody tr th:only-of-type {\n",
       "        vertical-align: middle;\n",
       "    }\n",
       "\n",
       "    .dataframe tbody tr th {\n",
       "        vertical-align: top;\n",
       "    }\n",
       "\n",
       "    .dataframe thead th {\n",
       "        text-align: right;\n",
       "    }\n",
       "</style>\n",
       "<table border=\"1\" class=\"dataframe\">\n",
       "  <thead>\n",
       "    <tr style=\"text-align: right;\">\n",
       "      <th></th>\n",
       "      <th>v012</th>\n",
       "      <th>v025</th>\n",
       "      <th>v106</th>\n",
       "      <th>v190</th>\n",
       "      <th>m14</th>\n",
       "      <th>m17</th>\n",
       "      <th>v238</th>\n",
       "      <th>b0</th>\n",
       "      <th>m60</th>\n",
       "      <th>m19</th>\n",
       "    </tr>\n",
       "  </thead>\n",
       "  <tbody>\n",
       "    <tr>\n",
       "      <th>1</th>\n",
       "      <td>40</td>\n",
       "      <td>2</td>\n",
       "      <td>1</td>\n",
       "      <td>2</td>\n",
       "      <td>4.0</td>\n",
       "      <td>0.0</td>\n",
       "      <td>1</td>\n",
       "      <td>0</td>\n",
       "      <td>1.0</td>\n",
       "      <td>0</td>\n",
       "    </tr>\n",
       "    <tr>\n",
       "      <th>3</th>\n",
       "      <td>41</td>\n",
       "      <td>2</td>\n",
       "      <td>1</td>\n",
       "      <td>2</td>\n",
       "      <td>4.0</td>\n",
       "      <td>0.0</td>\n",
       "      <td>1</td>\n",
       "      <td>0</td>\n",
       "      <td>1.0</td>\n",
       "      <td>0</td>\n",
       "    </tr>\n",
       "    <tr>\n",
       "      <th>6</th>\n",
       "      <td>26</td>\n",
       "      <td>2</td>\n",
       "      <td>1</td>\n",
       "      <td>1</td>\n",
       "      <td>2.0</td>\n",
       "      <td>1.0</td>\n",
       "      <td>1</td>\n",
       "      <td>0</td>\n",
       "      <td>1.0</td>\n",
       "      <td>1</td>\n",
       "    </tr>\n",
       "    <tr>\n",
       "      <th>8</th>\n",
       "      <td>26</td>\n",
       "      <td>2</td>\n",
       "      <td>1</td>\n",
       "      <td>2</td>\n",
       "      <td>6.0</td>\n",
       "      <td>0.0</td>\n",
       "      <td>1</td>\n",
       "      <td>0</td>\n",
       "      <td>1.0</td>\n",
       "      <td>0</td>\n",
       "    </tr>\n",
       "    <tr>\n",
       "      <th>10</th>\n",
       "      <td>28</td>\n",
       "      <td>2</td>\n",
       "      <td>1</td>\n",
       "      <td>2</td>\n",
       "      <td>3.0</td>\n",
       "      <td>0.0</td>\n",
       "      <td>1</td>\n",
       "      <td>0</td>\n",
       "      <td>1.0</td>\n",
       "      <td>1</td>\n",
       "    </tr>\n",
       "  </tbody>\n",
       "</table>\n",
       "</div>"
      ],
      "text/plain": [
       "    v012  v025  v106  v190  m14  m17  v238  b0  m60  m19\n",
       "1     40     2     1     2  4.0  0.0     1   0  1.0    0\n",
       "3     41     2     1     2  4.0  0.0     1   0  1.0    0\n",
       "6     26     2     1     1  2.0  1.0     1   0  1.0    1\n",
       "8     26     2     1     2  6.0  0.0     1   0  1.0    0\n",
       "10    28     2     1     2  3.0  0.0     1   0  1.0    1"
      ]
     },
     "execution_count": 22,
     "metadata": {},
     "output_type": "execute_result"
    }
   ],
   "source": [
    "new_data.head()"
   ]
  },
  {
   "cell_type": "code",
   "execution_count": 23,
   "id": "bb78b892-0e7f-4873-9429-1d7b6995e0dd",
   "metadata": {},
   "outputs": [],
   "source": [
    "# Convert the predictor variable 'm14' into two classes, i.e label 1 if ANC visits < 4 to imply the possibility of LBW to occur else 0 if ANC >= 4\n",
    "new_data['m14'] = np.where(new_data['m14'] < 4, 1, 0)"
   ]
  },
  {
   "cell_type": "code",
   "execution_count": 24,
   "id": "26610b2c-5873-42e7-a639-5418fbf315a2",
   "metadata": {},
   "outputs": [
    {
     "data": {
      "text/html": [
       "<div>\n",
       "<style scoped>\n",
       "    .dataframe tbody tr th:only-of-type {\n",
       "        vertical-align: middle;\n",
       "    }\n",
       "\n",
       "    .dataframe tbody tr th {\n",
       "        vertical-align: top;\n",
       "    }\n",
       "\n",
       "    .dataframe thead th {\n",
       "        text-align: right;\n",
       "    }\n",
       "</style>\n",
       "<table border=\"1\" class=\"dataframe\">\n",
       "  <thead>\n",
       "    <tr style=\"text-align: right;\">\n",
       "      <th></th>\n",
       "      <th>v012</th>\n",
       "      <th>v025</th>\n",
       "      <th>v106</th>\n",
       "      <th>v190</th>\n",
       "      <th>m14</th>\n",
       "      <th>m17</th>\n",
       "      <th>v238</th>\n",
       "      <th>b0</th>\n",
       "      <th>m60</th>\n",
       "      <th>m19</th>\n",
       "    </tr>\n",
       "  </thead>\n",
       "  <tbody>\n",
       "    <tr>\n",
       "      <th>1</th>\n",
       "      <td>40</td>\n",
       "      <td>2</td>\n",
       "      <td>1</td>\n",
       "      <td>2</td>\n",
       "      <td>0</td>\n",
       "      <td>0.0</td>\n",
       "      <td>1</td>\n",
       "      <td>0</td>\n",
       "      <td>1.0</td>\n",
       "      <td>0</td>\n",
       "    </tr>\n",
       "    <tr>\n",
       "      <th>3</th>\n",
       "      <td>41</td>\n",
       "      <td>2</td>\n",
       "      <td>1</td>\n",
       "      <td>2</td>\n",
       "      <td>0</td>\n",
       "      <td>0.0</td>\n",
       "      <td>1</td>\n",
       "      <td>0</td>\n",
       "      <td>1.0</td>\n",
       "      <td>0</td>\n",
       "    </tr>\n",
       "    <tr>\n",
       "      <th>6</th>\n",
       "      <td>26</td>\n",
       "      <td>2</td>\n",
       "      <td>1</td>\n",
       "      <td>1</td>\n",
       "      <td>1</td>\n",
       "      <td>1.0</td>\n",
       "      <td>1</td>\n",
       "      <td>0</td>\n",
       "      <td>1.0</td>\n",
       "      <td>1</td>\n",
       "    </tr>\n",
       "    <tr>\n",
       "      <th>8</th>\n",
       "      <td>26</td>\n",
       "      <td>2</td>\n",
       "      <td>1</td>\n",
       "      <td>2</td>\n",
       "      <td>0</td>\n",
       "      <td>0.0</td>\n",
       "      <td>1</td>\n",
       "      <td>0</td>\n",
       "      <td>1.0</td>\n",
       "      <td>0</td>\n",
       "    </tr>\n",
       "    <tr>\n",
       "      <th>10</th>\n",
       "      <td>28</td>\n",
       "      <td>2</td>\n",
       "      <td>1</td>\n",
       "      <td>2</td>\n",
       "      <td>1</td>\n",
       "      <td>0.0</td>\n",
       "      <td>1</td>\n",
       "      <td>0</td>\n",
       "      <td>1.0</td>\n",
       "      <td>1</td>\n",
       "    </tr>\n",
       "  </tbody>\n",
       "</table>\n",
       "</div>"
      ],
      "text/plain": [
       "    v012  v025  v106  v190  m14  m17  v238  b0  m60  m19\n",
       "1     40     2     1     2    0  0.0     1   0  1.0    0\n",
       "3     41     2     1     2    0  0.0     1   0  1.0    0\n",
       "6     26     2     1     1    1  1.0     1   0  1.0    1\n",
       "8     26     2     1     2    0  0.0     1   0  1.0    0\n",
       "10    28     2     1     2    1  0.0     1   0  1.0    1"
      ]
     },
     "execution_count": 24,
     "metadata": {},
     "output_type": "execute_result"
    }
   ],
   "source": [
    "new_data.head()"
   ]
  },
  {
   "cell_type": "code",
   "execution_count": 25,
   "id": "6f4bbe6b-a64c-4152-9727-d90d1e5ccd2c",
   "metadata": {},
   "outputs": [
    {
     "name": "stdout",
     "output_type": "stream",
     "text": [
      "   v012  v025  v106  v190  m14  m17  v238  b0  m60  m19\n",
      "1     4     2     1     2    0  0.0     1   0  1.0    0\n",
      "3     4     2     1     2    0  0.0     1   0  1.0    0\n",
      "6     2     2     1     1    1  1.0     1   0  1.0    1\n",
      "8     2     2     1     2    0  0.0     1   0  1.0    0\n",
      "10    2     2     1     2    1  0.0     1   0  1.0    1\n"
     ]
    }
   ],
   "source": [
    "# Define the bins and labels\n",
    "bins = [15, 20, 25, 30, 35, 50]\n",
    "labels = ['15-19', '20-24', '25-29', '30-34', '35-49']\n",
    "\n",
    "# Convert 'age' column to age group labels\n",
    "new_data['age_group'] = pd.cut(new_data['v012'], bins=bins, labels=labels, right=False)\n",
    "\n",
    "# Define a mapping from labels to classes\n",
    "label_to_class = {'15-19': 0, '20-24': 1, '25-29': 2, '30-34': 3, '35-49': 4}\n",
    "\n",
    "# Map labels to classes and replace values in 'v012' column\n",
    "new_data['v012'] = new_data['age_group'].map(label_to_class)\n",
    "\n",
    "# Drop the 'age_group' column\n",
    "new_data.drop(columns=['age_group'], inplace=True)\n",
    "\n",
    "# Print the modified DataFrame\n",
    "print(new_data.head())\n"
   ]
  },
  {
   "cell_type": "code",
   "execution_count": 26,
   "id": "1d727ce6-20ca-4a61-b474-40aef191efed",
   "metadata": {},
   "outputs": [],
   "source": [
    "# Assuming you have your cleaned dataset in a DataFrame called new_data_cleaned\n",
    "# Specify the path where you want to save the cleaned data\n",
    "save_path = '/Users/kalokola/group5/Low-Birth-Weight-Prediction-app/DATA/new_data_cleaned.csv'\n",
    "\n",
    "# Save the cleaned dataset to a CSV file\n",
    "new_data.to_csv(save_path, index=False)"
   ]
  },
  {
   "cell_type": "code",
   "execution_count": 27,
   "id": "1ef35dab-3b43-4113-a2f7-a256ff0d897d",
   "metadata": {},
   "outputs": [
    {
     "name": "stdout",
     "output_type": "stream",
     "text": [
      "   v012  v025  v106  v190  m14  m17  v238  b0  m60  m19\n",
      "0     4     2     1     2    0  0.0     1   0  1.0    0\n",
      "1     4     2     1     2    0  0.0     1   0  1.0    0\n",
      "2     2     2     1     1    1  1.0     1   0  1.0    1\n",
      "3     2     2     1     2    0  0.0     1   0  1.0    0\n",
      "4     2     2     1     2    1  0.0     1   0  1.0    1\n",
      "Count of 0 values in m19: 4155\n",
      "Count of 1 values in m19: 346\n",
      "Chi-squared test statistic: 0.0\n",
      "p-value: 1.0\n",
      "Degrees of freedom: 0\n",
      "Expected frequencies: [[4155.]\n",
      " [ 346.]]\n",
      "There is no significant difference between the counts of 0 and 1 values in m19.\n"
     ]
    }
   ],
   "source": [
    "from scipy.stats import chi2_contingency\n",
    "\n",
    "# Specify the path where the cleaned data is saved\n",
    "load_path = '/Users/kalokola/group5/Low-Birth-Weight-Prediction-app/DATA/new_data_cleaned.csv'\n",
    "\n",
    "# Load the cleaned dataset into a pandas DataFrame\n",
    "new_df = pd.read_csv(load_path)\n",
    "\n",
    "# Print the first few rows to verify the data is loaded correctly\n",
    "print(new_df.head())\n",
    "\n",
    "# Summarize counts for 0 and 1 values in respect to the target variable 'm19'\n",
    "count_0 = new_df[new_df['m19'] == 0].shape[0]\n",
    "count_1 = new_df[new_df['m19'] == 1].shape[0]\n",
    "\n",
    "print(f'Count of 0 values in m19: {count_0}')\n",
    "print(f'Count of 1 values in m19: {count_1}')\n",
    "\n",
    "# Create a contingency table\n",
    "contingency_table = pd.crosstab(index=new_df['m19'], columns='count')\n",
    "\n",
    "# Perform Chi-squared test\n",
    "chi2, p, dof, ex = chi2_contingency(contingency_table)\n",
    "\n",
    "print(f'Chi-squared test statistic: {chi2}')\n",
    "print(f'p-value: {p}')\n",
    "print(f'Degrees of freedom: {dof}')\n",
    "print(f'Expected frequencies: {ex}')\n",
    "\n",
    "# Interpret the p-value\n",
    "alpha = 0.05\n",
    "if p < alpha:\n",
    "    print('There is a significant difference between the counts of 0 and 1 values in m19.')\n",
    "else:\n",
    "    print('There is no significant difference between the counts of 0 and 1 values in m19.')\n"
   ]
  },
  {
   "cell_type": "code",
   "execution_count": 29,
   "id": "be6dbab4-e083-4986-a705-991cd23bbeea",
   "metadata": {},
   "outputs": [
    {
     "name": "stdout",
     "output_type": "stream",
     "text": [
      "Analyzing predictor variable: v012\n",
      "Count of 1 values for LBW (m19 = 0): 85\n",
      "Count of 0 values for NBW (m19 = 1): 295\n",
      "Chi-squared test statistic: 8.891713496784547\n",
      "p-value: 0.06386385938105446\n",
      "Degrees of freedom: 4\n",
      "Expected frequencies: [[ 308.32481671 1060.6742946  1055.13552544  788.35147745  942.5138858 ]\n",
      " [  25.67518329   88.3257054    87.86447456   65.64852255   78.4861142 ]]\n",
      "There is no significant relationship between predictor and m19.\n",
      "\n",
      "Analyzing predictor variable: v025\n",
      "Count of 1 values for LBW (m19 = 0): 130\n",
      "Count of 0 values for NBW (m19 = 1): 0\n",
      "Chi-squared test statistic: 4.663848348816412\n",
      "p-value: 0.030804075576480513\n",
      "Degrees of freedom: 1\n",
      "Expected frequencies: [[1338.53588092 2816.46411908]\n",
      " [ 111.46411908  234.53588092]]\n",
      "There is a significant relationship between predictor and m19.\n",
      "\n",
      "Analyzing predictor variable: v106\n",
      "Count of 1 values for LBW (m19 = 0): 165\n",
      "Count of 0 values for NBW (m19 = 1): 644\n",
      "Chi-squared test statistic: 6.757882512849591\n",
      "p-value: 0.08002863038616546\n",
      "Degrees of freedom: 3\n",
      "Expected frequencies: [[ 637.88158187 2167.50499889 1303.45700955   46.15640969]\n",
      " [  53.11841813  180.49500111  108.54299045    3.84359031]]\n",
      "There is no significant relationship between predictor and m19.\n",
      "\n",
      "Analyzing predictor variable: v190\n",
      "Count of 1 values for LBW (m19 = 0): 54\n",
      "Count of 0 values for NBW (m19 = 1): 0\n",
      "Chi-squared test statistic: 3.4284926500838524\n",
      "p-value: 0.4888341508442118\n",
      "Degrees of freedom: 4\n",
      "Expected frequencies: [[628.65029993 760.65763164 891.74183515 940.66762942 933.28260387]\n",
      " [ 52.34970007  63.34236836  74.25816485  78.33237058  77.71739613]]\n",
      "There is no significant relationship between predictor and m19.\n",
      "\n",
      "Analyzing predictor variable: m14\n",
      "Count of 1 values for LBW (m19 = 0): 118\n",
      "Count of 0 values for NBW (m19 = 1): 2881\n",
      "Chi-squared test statistic: 1.6141316838541702\n",
      "p-value: 0.2039119858643462\n",
      "Degrees of freedom: 1\n",
      "Expected frequencies: [[2870.00555432 1284.99444568]\n",
      " [ 238.99444568  107.00555432]]\n",
      "There is no significant relationship between predictor and m19.\n",
      "\n",
      "Analyzing predictor variable: m17\n",
      "Count of 1 values for LBW (m19 = 0): 52\n",
      "Count of 0 values for NBW (m19 = 1): 3615\n",
      "Chi-squared test statistic: 0.9840570991297564\n",
      "p-value: 0.32119922216272123\n",
      "Degrees of freedom: 1\n",
      "Expected frequencies: [[3608.50810931  546.49189069]\n",
      " [ 300.49189069   45.50810931]]\n",
      "There is no significant relationship between predictor and m19.\n",
      "\n",
      "Analyzing predictor variable: v238\n",
      "Count of 1 values for LBW (m19 = 0): 271\n",
      "Count of 0 values for NBW (m19 = 1): 0\n",
      "Chi-squared test statistic: 45.290245635587176\n",
      "p-value: 1.4633496843131756e-10\n",
      "Degrees of freedom: 2\n",
      "Expected frequencies: [[3.68882026e+03 4.54179071e+02 1.20006665e+01]\n",
      " [3.07179738e+02 3.78209287e+01 9.99333481e-01]]\n",
      "There is a significant relationship between predictor and m19.\n",
      "\n",
      "Analyzing predictor variable: b0\n",
      "Count of 1 values for LBW (m19 = 0): 0\n",
      "Count of 0 values for NBW (m19 = 1): 4121\n",
      "Chi-squared test statistic: 268.10809117651655\n",
      "p-value: 2.9325661046063377e-60\n",
      "Degrees of freedom: 1\n",
      "Expected frequencies: [[4082.07287269   72.92712731]\n",
      " [ 339.92712731    6.07287269]]\n",
      "There is a significant relationship between predictor and m19.\n",
      "\n",
      "Analyzing predictor variable: m60\n",
      "Count of 1 values for LBW (m19 = 0): 205\n",
      "Count of 0 values for NBW (m19 = 1): 1491\n",
      "Chi-squared test statistic: 5.01489048116632\n",
      "p-value: 0.08147612547697275\n",
      "Degrees of freedom: 2\n",
      "Expected frequencies: [[1.50654521e+03 2.62629971e+03 2.21550766e+01]\n",
      " [1.25454788e+02 2.18700289e+02 1.84492335e+00]]\n",
      "There is no significant relationship between predictor and m19.\n",
      "\n"
     ]
    }
   ],
   "source": [
    "from scipy.stats import chi2_contingency\n",
    "\n",
    "# Load the cleaned dataset into a pandas DataFrame\n",
    "load_path = '/Users/kalokola/group5/Low-Birth-Weight-Prediction-app/DATA/new_data_cleaned.csv'\n",
    "new_df = pd.read_csv(load_path)\n",
    "\n",
    "# List of predictor variables (replace with actual column names)\n",
    "predictor_variables = ['v012', 'v025', 'v106', 'v190', 'm14', 'm17', 'v238', 'b0', 'm60']\n",
    "\n",
    "# Define classes for LBW and NBW based on m19\n",
    "lbw_class = 1\n",
    "nbw_class = 0\n",
    "\n",
    "# Function to calculate counts for LBW and NBW\n",
    "def calculate_counts(df, predictor):\n",
    "    # Filter dataframe for LBW (m19 = 1) and NBW (m19 = 0) separately\n",
    "    lbw_counts = df[df['m19'] == lbw_class][predictor].value_counts()\n",
    "    nbw_counts = df[df['m19'] == nbw_class][predictor].value_counts()\n",
    "    \n",
    "    # Initialize counts\n",
    "    #lbw_count_0 = lbw_counts[0] if 0 in lbw_counts.index else 0\n",
    "    lbw_count = lbw_counts[1] if 1 in lbw_counts.index else 0\n",
    "    nbw_count = nbw_counts[0] if 0 in nbw_counts.index else 0\n",
    "    #nbw_count_1 = nbw_counts[1] if 1 in nbw_counts.index else 0\n",
    "    \n",
    "    return lbw_count, nbw_count\n",
    "\n",
    "# Iterate through each predictor variable\n",
    "for predictor in predictor_variables:\n",
    "    print(f\"Analyzing predictor variable: {predictor}\")\n",
    "    \n",
    "    # Calculate counts for LBW and NBW\n",
    "    lbw_count, nbw_count = calculate_counts(new_df, predictor)\n",
    "    \n",
    "    #print(f'Count of 0 values for LBW (m19 = 0): {lbw_count_0}')\n",
    "    print(f'Count of 1 values for LBW (m19 = 0): {lbw_count}')\n",
    "    print(f'Count of 0 values for NBW (m19 = 1): {nbw_count}')\n",
    "    #print(f'Count of 1 values for NBW (m19 = 1): {nbw_count_1}')\n",
    "    \n",
    "    # Create contingency table\n",
    "    contingency_table = pd.crosstab(index=new_df['m19'], columns=new_df[predictor])\n",
    "    \n",
    "    # Perform Chi-squared test\n",
    "    chi2, p, dof, ex = chi2_contingency(contingency_table)\n",
    "    \n",
    "    print(f'Chi-squared test statistic: {chi2}')\n",
    "    print(f'p-value: {p}')\n",
    "    print(f'Degrees of freedom: {dof}')\n",
    "    print(f'Expected frequencies: {ex}')\n",
    "    \n",
    "    # Interpret the p-value\n",
    "    alpha = 0.05\n",
    "    if p < alpha:\n",
    "        print('There is a significant relationship between predictor and m19.')\n",
    "    else:\n",
    "        print('There is no significant relationship between predictor and m19.')\n",
    "    \n",
    "    print()  # Print empty line for better readability\n"
   ]
  },
  {
   "cell_type": "markdown",
   "id": "ef6860bd",
   "metadata": {},
   "source": [
    "## Splitting the cleaned dataset"
   ]
  },
  {
   "cell_type": "code",
   "execution_count": 30,
   "id": "41a09a37",
   "metadata": {},
   "outputs": [
    {
     "name": "stdout",
     "output_type": "stream",
     "text": [
      "Shape of X_train_with_target: (3600, 10)\n",
      "Shape of X_test_with_target: (901, 10)\n",
      "Shape of X_train_balanced: (6658, 9)\n",
      "Shape of y_train_balanced: (6658,)\n"
     ]
    }
   ],
   "source": [
    "from sklearn.model_selection import train_test_split\n",
    "from imblearn.over_sampling import SMOTE\n",
    "\n",
    "# List of selected predictor variables\n",
    "selected_predictor_variables = ['v012', 'v025', 'v106', 'v190', 'm14', 'm17', 'v238', 'b0', 'm60']\n",
    "\n",
    "# Automatically identify predictor features from the selected variables\n",
    "predictor_features = new_data[selected_predictor_variables]\n",
    "\n",
    "# Identify target feature\n",
    "target_feature = new_data['m19']\n",
    "\n",
    "# Split the dataset into training and testing sets (80% train, 20% test)\n",
    "X_train, X_test, y_train, y_test = train_test_split(predictor_features, target_feature, test_size=0.2, random_state=42)\n",
    "\n",
    "# Convert the training and testing sets back into DataFrames\n",
    "X_train = pd.DataFrame(X_train, columns=selected_predictor_variables)\n",
    "X_test = pd.DataFrame(X_test, columns=selected_predictor_variables)\n",
    "y_train = pd.Series(y_train, name='m19')\n",
    "y_test = pd.Series(y_test, name='m19')\n",
    "\n",
    "# Concatenate the predictor features and target feature into a single DataFrame\n",
    "X_train_with_target = pd.concat([X_train, y_train.to_frame()], axis=1)\n",
    "X_test_with_target = pd.concat([X_test, y_test.to_frame()], axis=1)\n",
    "\n",
    "# Print the shapes of the new training and testing sets\n",
    "print(\"Shape of X_train_with_target:\", X_train_with_target.shape)\n",
    "print(\"Shape of X_test_with_target:\", X_test_with_target.shape)\n",
    "\n",
    "# Apply SMOTE to the training data to balance the classes\n",
    "smote = SMOTE(random_state=0)\n",
    "X_train_balanced, y_train_balanced = smote.fit_resample(X_train, y_train)\n",
    "\n",
    "# Print the shapes after balancing\n",
    "print(\"Shape of X_train_balanced:\", X_train_balanced.shape)\n",
    "print(\"Shape of y_train_balanced:\", y_train_balanced.shape)"
   ]
  },
  {
   "cell_type": "code",
   "execution_count": 31,
   "id": "e58561f7",
   "metadata": {},
   "outputs": [
    {
     "name": "stdout",
     "output_type": "stream",
     "text": [
      "<class 'pandas.core.frame.DataFrame'>\n",
      "<class 'pandas.core.frame.DataFrame'>\n"
     ]
    }
   ],
   "source": [
    "# Checking datatype of the train set\n",
    "print(type(X_train_with_target))\n",
    "print(type(X_train_balanced))"
   ]
  },
  {
   "cell_type": "code",
   "execution_count": 32,
   "id": "5b658a9f",
   "metadata": {},
   "outputs": [
    {
     "data": {
      "text/html": [
       "<div>\n",
       "<style scoped>\n",
       "    .dataframe tbody tr th:only-of-type {\n",
       "        vertical-align: middle;\n",
       "    }\n",
       "\n",
       "    .dataframe tbody tr th {\n",
       "        vertical-align: top;\n",
       "    }\n",
       "\n",
       "    .dataframe thead th {\n",
       "        text-align: right;\n",
       "    }\n",
       "</style>\n",
       "<table border=\"1\" class=\"dataframe\">\n",
       "  <thead>\n",
       "    <tr style=\"text-align: right;\">\n",
       "      <th></th>\n",
       "      <th>v012</th>\n",
       "      <th>v025</th>\n",
       "      <th>v106</th>\n",
       "      <th>v190</th>\n",
       "      <th>m14</th>\n",
       "      <th>m17</th>\n",
       "      <th>v238</th>\n",
       "      <th>b0</th>\n",
       "      <th>m60</th>\n",
       "      <th>m19</th>\n",
       "    </tr>\n",
       "  </thead>\n",
       "  <tbody>\n",
       "    <tr>\n",
       "      <th>10168</th>\n",
       "      <td>3</td>\n",
       "      <td>2</td>\n",
       "      <td>0</td>\n",
       "      <td>1</td>\n",
       "      <td>1</td>\n",
       "      <td>0.0</td>\n",
       "      <td>1</td>\n",
       "      <td>0</td>\n",
       "      <td>8.0</td>\n",
       "      <td>0</td>\n",
       "    </tr>\n",
       "    <tr>\n",
       "      <th>7143</th>\n",
       "      <td>3</td>\n",
       "      <td>1</td>\n",
       "      <td>1</td>\n",
       "      <td>5</td>\n",
       "      <td>0</td>\n",
       "      <td>0.0</td>\n",
       "      <td>1</td>\n",
       "      <td>0</td>\n",
       "      <td>1.0</td>\n",
       "      <td>0</td>\n",
       "    </tr>\n",
       "    <tr>\n",
       "      <th>1410</th>\n",
       "      <td>0</td>\n",
       "      <td>1</td>\n",
       "      <td>1</td>\n",
       "      <td>5</td>\n",
       "      <td>0</td>\n",
       "      <td>0.0</td>\n",
       "      <td>1</td>\n",
       "      <td>0</td>\n",
       "      <td>0.0</td>\n",
       "      <td>0</td>\n",
       "    </tr>\n",
       "    <tr>\n",
       "      <th>4874</th>\n",
       "      <td>2</td>\n",
       "      <td>2</td>\n",
       "      <td>2</td>\n",
       "      <td>3</td>\n",
       "      <td>0</td>\n",
       "      <td>0.0</td>\n",
       "      <td>2</td>\n",
       "      <td>2</td>\n",
       "      <td>1.0</td>\n",
       "      <td>0</td>\n",
       "    </tr>\n",
       "    <tr>\n",
       "      <th>2549</th>\n",
       "      <td>2</td>\n",
       "      <td>1</td>\n",
       "      <td>1</td>\n",
       "      <td>4</td>\n",
       "      <td>1</td>\n",
       "      <td>0.0</td>\n",
       "      <td>1</td>\n",
       "      <td>0</td>\n",
       "      <td>1.0</td>\n",
       "      <td>0</td>\n",
       "    </tr>\n",
       "  </tbody>\n",
       "</table>\n",
       "</div>"
      ],
      "text/plain": [
       "      v012  v025  v106  v190  m14  m17  v238  b0  m60  m19\n",
       "10168    3     2     0     1    1  0.0     1   0  8.0    0\n",
       "7143     3     1     1     5    0  0.0     1   0  1.0    0\n",
       "1410     0     1     1     5    0  0.0     1   0  0.0    0\n",
       "4874     2     2     2     3    0  0.0     2   2  1.0    0\n",
       "2549     2     1     1     4    1  0.0     1   0  1.0    0"
      ]
     },
     "execution_count": 32,
     "metadata": {},
     "output_type": "execute_result"
    }
   ],
   "source": [
    "X_train_with_target.head()"
   ]
  },
  {
   "cell_type": "code",
   "execution_count": 33,
   "id": "ab5e929d",
   "metadata": {},
   "outputs": [
    {
     "data": {
      "text/html": [
       "<div>\n",
       "<style scoped>\n",
       "    .dataframe tbody tr th:only-of-type {\n",
       "        vertical-align: middle;\n",
       "    }\n",
       "\n",
       "    .dataframe tbody tr th {\n",
       "        vertical-align: top;\n",
       "    }\n",
       "\n",
       "    .dataframe thead th {\n",
       "        text-align: right;\n",
       "    }\n",
       "</style>\n",
       "<table border=\"1\" class=\"dataframe\">\n",
       "  <thead>\n",
       "    <tr style=\"text-align: right;\">\n",
       "      <th></th>\n",
       "      <th>v012</th>\n",
       "      <th>v025</th>\n",
       "      <th>v106</th>\n",
       "      <th>v190</th>\n",
       "      <th>m14</th>\n",
       "      <th>m17</th>\n",
       "      <th>v238</th>\n",
       "      <th>b0</th>\n",
       "      <th>m60</th>\n",
       "      <th>m19</th>\n",
       "    </tr>\n",
       "  </thead>\n",
       "  <tbody>\n",
       "    <tr>\n",
       "      <th>10555</th>\n",
       "      <td>1</td>\n",
       "      <td>1</td>\n",
       "      <td>2</td>\n",
       "      <td>5</td>\n",
       "      <td>0</td>\n",
       "      <td>0.0</td>\n",
       "      <td>1</td>\n",
       "      <td>0</td>\n",
       "      <td>1.0</td>\n",
       "      <td>0</td>\n",
       "    </tr>\n",
       "    <tr>\n",
       "      <th>1078</th>\n",
       "      <td>3</td>\n",
       "      <td>2</td>\n",
       "      <td>2</td>\n",
       "      <td>5</td>\n",
       "      <td>1</td>\n",
       "      <td>0.0</td>\n",
       "      <td>1</td>\n",
       "      <td>0</td>\n",
       "      <td>8.0</td>\n",
       "      <td>0</td>\n",
       "    </tr>\n",
       "    <tr>\n",
       "      <th>7244</th>\n",
       "      <td>2</td>\n",
       "      <td>2</td>\n",
       "      <td>1</td>\n",
       "      <td>2</td>\n",
       "      <td>1</td>\n",
       "      <td>0.0</td>\n",
       "      <td>1</td>\n",
       "      <td>0</td>\n",
       "      <td>1.0</td>\n",
       "      <td>0</td>\n",
       "    </tr>\n",
       "    <tr>\n",
       "      <th>9034</th>\n",
       "      <td>1</td>\n",
       "      <td>2</td>\n",
       "      <td>2</td>\n",
       "      <td>5</td>\n",
       "      <td>0</td>\n",
       "      <td>0.0</td>\n",
       "      <td>1</td>\n",
       "      <td>0</td>\n",
       "      <td>1.0</td>\n",
       "      <td>0</td>\n",
       "    </tr>\n",
       "    <tr>\n",
       "      <th>1980</th>\n",
       "      <td>2</td>\n",
       "      <td>1</td>\n",
       "      <td>2</td>\n",
       "      <td>5</td>\n",
       "      <td>0</td>\n",
       "      <td>0.0</td>\n",
       "      <td>1</td>\n",
       "      <td>0</td>\n",
       "      <td>0.0</td>\n",
       "      <td>1</td>\n",
       "    </tr>\n",
       "  </tbody>\n",
       "</table>\n",
       "</div>"
      ],
      "text/plain": [
       "      v012  v025  v106  v190  m14  m17  v238  b0  m60  m19\n",
       "10555    1     1     2     5    0  0.0     1   0  1.0    0\n",
       "1078     3     2     2     5    1  0.0     1   0  8.0    0\n",
       "7244     2     2     1     2    1  0.0     1   0  1.0    0\n",
       "9034     1     2     2     5    0  0.0     1   0  1.0    0\n",
       "1980     2     1     2     5    0  0.0     1   0  0.0    1"
      ]
     },
     "execution_count": 33,
     "metadata": {},
     "output_type": "execute_result"
    }
   ],
   "source": [
    "X_train_with_target.tail()"
   ]
  },
  {
   "cell_type": "markdown",
   "id": "926f9172",
   "metadata": {},
   "source": [
    "## Correlation Matrix with Heatmap"
   ]
  },
  {
   "cell_type": "code",
   "execution_count": 34,
   "id": "145d9847",
   "metadata": {
    "scrolled": true
   },
   "outputs": [
    {
     "data": {
      "image/png": "[encoded data removed]",
      "text/plain": [
       "<Figure size 2000x1800 with 2 Axes>"
      ]
     },
     "metadata": {},
     "output_type": "display_data"
    }
   ],
   "source": [
    "# Creating a correlation matrix\n",
    "corr_matrix = X_train_with_target.corr()\n",
    "\n",
    "# Plotting the correlation matrix as a heatmap\n",
    "plt.figure(figsize=(20, 18))\n",
    "sns.heatmap(corr_matrix, annot=False, cmap=\"coolwarm\", linewidths=0.5)\n",
    "plt.show()"
   ]
  },
  {
   "cell_type": "code",
   "execution_count": 35,
   "id": "e71828d0",
   "metadata": {},
   "outputs": [
    {
     "data": {
      "text/plain": [
       "m19     1.000000\n",
       "b0      0.275061\n",
       "v238    0.105794\n",
       "v106    0.037681\n",
       "m17     0.017560\n",
       "v190    0.009545\n",
       "m14     0.003192\n",
       "v012   -0.023445\n",
       "m60    -0.032439\n",
       "v025   -0.033422\n",
       "Name: m19, dtype: float64"
      ]
     },
     "execution_count": 35,
     "metadata": {},
     "output_type": "execute_result"
    }
   ],
   "source": [
    "#  Checking correlation between each feature and the target variable, then sorting in descending order\n",
    "X_train_with_target.corr().m19.sort_values(ascending=False)"
   ]
  },
  {
   "cell_type": "markdown",
   "id": "6ff8d9ad-f774-4020-8e07-9087c39ace3f",
   "metadata": {},
   "source": [
    "## Feature importance"
   ]
  },
  {
   "cell_type": "code",
   "execution_count": 36,
   "id": "39741134-1e02-4734-adde-87980ab889e5",
   "metadata": {},
   "outputs": [],
   "source": [
    "#import package \n",
    "from sklearn.ensemble import ExtraTreesClassifier, RandomForestClassifier"
   ]
  },
  {
   "cell_type": "code",
   "execution_count": 37,
   "id": "c4a0c52a-73d0-4922-aa0e-bfc15039f1e1",
   "metadata": {},
   "outputs": [
    {
     "name": "stdout",
     "output_type": "stream",
     "text": [
      "[0.21036929 0.05653344 0.11143605 0.22047624 0.07507199 0.06012199\n",
      " 0.04486997 0.13940214 0.08171888]\n"
     ]
    },
    {
     "data": {
      "image/png": "[encoded data removed]",
      "text/plain": [
       "<Figure size 1800x1800 with 1 Axes>"
      ]
     },
     "metadata": {},
     "output_type": "display_data"
    }
   ],
   "source": [
    "#create model for training \n",
    "model = RandomForestClassifier()\n",
    "model.fit(predictor_features,target_feature)\n",
    "\n",
    "#use inbuilt class feature_importances of tree based classifiers\n",
    "print(model.feature_importances_) \n",
    "\n",
    "#plot graph of feature importances for better visualization\n",
    "feature_importances = pd.Series(model.feature_importances_, index=predictor_features.columns)\n",
    "\n",
    "# show the first 8 important features \n",
    "fig= plt.figure(figsize=(18,18))\n",
    "sns.set(font_scale = 3)\n",
    "feature_importances.nlargest(9).plot(kind='barh')\n",
    "plt.show()"
   ]
  },
  {
   "cell_type": "markdown",
   "id": "04e42804",
   "metadata": {},
   "source": [
    "## Feature selection - Univariate selection"
   ]
  },
  {
   "cell_type": "code",
   "execution_count": 38,
   "id": "6af9101e-9414-4d6a-9e3d-9efc1940bd56",
   "metadata": {},
   "outputs": [],
   "source": [
    "# import packages \n",
    "from sklearn.feature_selection import SelectKBest\n",
    "from sklearn.feature_selection import chi2"
   ]
  },
  {
   "cell_type": "code",
   "execution_count": 39,
   "id": "93cc5503-519e-4a5a-b28f-53b153cd1179",
   "metadata": {},
   "outputs": [
    {
     "name": "stdout",
     "output_type": "stream",
     "text": [
      "  Specs       Score\n",
      "7    b0  540.603078\n",
      "8   m60    3.758253\n",
      "6  v238    3.475004\n",
      "2  v106    2.209726\n",
      "0  v012    1.706984\n",
      "4   m14    1.223710\n",
      "5   m17    1.003209\n",
      "1  v025    0.641114\n"
     ]
    }
   ],
   "source": [
    "#apply SelectKBest class to extract top 9 best features\n",
    "bestfeatures = SelectKBest(score_func=chi2, k=8)\n",
    "\n",
    "#train to find best features\n",
    "fit = bestfeatures.fit(predictor_features,target_feature)\n",
    "\n",
    "#save in the dataframe \n",
    "dfscores = pd.DataFrame(fit.scores_)\n",
    "dfcolumns = pd.DataFrame(predictor_features.columns)\n",
    "\n",
    "#concat two dataframes for better visualization \n",
    "featureScores = pd.concat([dfcolumns,dfscores],axis=1)\n",
    "\n",
    "#naming the dataframe columns\n",
    "featureScores.columns = ['Specs','Score'] \n",
    "\n",
    "#print 8 best features \n",
    "print(featureScores.nlargest(8,'Score'))  "
   ]
  },
  {
   "cell_type": "markdown",
   "id": "6a198395",
   "metadata": {},
   "source": [
    "Variables **b0**, followed by **m60**, then **v238**, **v106**, **v012**, **m14** are the  most relevant features to the target variable s thus will be used in **hypothesis formulation** and performing **bivariate analysis** for confirmation\n",
    "\n",
    "**Where;**\n",
    "    '**b0**':'child is twin',\n",
    "    '**m60**': 'Drugs for intestinal parasites'\n",
    "    '**v238**': 'Birth in the last 3 years',\n",
    "    '**v106**': 'highest educational level',\n",
    "    '**v012**': 'respondent's current age',\n",
    "    '**m14**': 'number of antenatal visits during pregnancy'"
   ]
  },
  {
   "cell_type": "markdown",
   "id": "29b678e5",
   "metadata": {},
   "source": [
    "## Hypothesis formulation"
   ]
  },
  {
   "cell_type": "markdown",
   "id": "bda73d9e-860a-4664-a5f7-644794c5660c",
   "metadata": {},
   "source": [
    "**1.** Babies born in twin pregnancies are more likely to have low birth weight - **FALSE**\n",
    "\n",
    "**2.** Treating intestinal parasites during pregnancy may reduce the risk of LBW - **FALSE**\n",
    "\n",
    "**3.** Mothers with higher education are less likely to have LBW babies - **TRUE**\n",
    "\n",
    "**4.** Older mothers (i.e more aged) are more likely to have LBW babies - **FALSE**\n",
    "\n",
    "**5.** Regular antenatal care (i.e more ANC visits) may reduce the risk of LBW - **TRUE**\n",
    "\n",
    "**6.** Women who have given birth in the last 3 years more than once are more likely to deliver a low birth weight infant. - **TRUE**"
   ]
  },
  {
   "cell_type": "markdown",
   "id": "9f354443",
   "metadata": {},
   "source": [
    "## Bivariate analysis"
   ]
  },
  {
   "cell_type": "code",
   "execution_count": 40,
   "id": "5e25f9a0",
   "metadata": {},
   "outputs": [
    {
     "data": {
      "text/plain": [
       "<Figure size 8000x1000 with 0 Axes>"
      ]
     },
     "metadata": {},
     "output_type": "display_data"
    },
    {
     "data": {
      "image/png": "[encoded data removed]",
      "text/plain": [
       "<Figure size 640x480 with 1 Axes>"
      ]
     },
     "metadata": {},
     "output_type": "display_data"
    }
   ],
   "source": [
    "# Counting the frequency of each unique value in the column\n",
    "child_records = X_train_with_target.groupby('b0')['m19'].value_counts().unstack(fill_value=0).sort_index()\n",
    "\n",
    "# Plotting the bar graph\n",
    "plt.figure(figsize=(80, 10))  # Adjust width and height as needed\n",
    "\n",
    "child_records.plot(kind='bar', stacked=False, width=0.9)\n",
    "plt.xlabel('Child is twin', fontsize ='20', fontname='Arial', color='red')\n",
    "plt.ylabel('Frequency',fontsize ='20', fontname='Arial', color='red')\n",
    "\n",
    "plt.xticks(fontsize=14)  # Set x-axis tick label font size\n",
    "plt.yticks(fontsize=14)\n",
    "\n",
    "plt.title('Child is twin by birth weight', fontsize ='20', fontname='Arial', color='red')\n",
    "plt.legend(title='Birth Weights', title_fontsize='10', fontsize ='10')\n",
    "plt.xticks(rotation=0)\n",
    "plt.show()"
   ]
  },
  {
   "cell_type": "markdown",
   "id": "dcf04789-0859-46c0-b878-977c83870fbc",
   "metadata": {},
   "source": [
    "**Where:**\n",
    "  \n",
    "**0:** Single birth\n",
    "\n",
    "**2:** Second of multiple"
   ]
  },
  {
   "cell_type": "code",
   "execution_count": 41,
   "id": "bb0bb5ca-12b7-4cd1-b9ce-361249b3487b",
   "metadata": {},
   "outputs": [
    {
     "data": {
      "text/plain": [
       "<Figure size 8000x1000 with 0 Axes>"
      ]
     },
     "metadata": {},
     "output_type": "display_data"
    },
    {
     "data": {
      "image/png": "[encoded data removed]",
      "text/plain": [
       "<Figure size 640x480 with 1 Axes>"
      ]
     },
     "metadata": {},
     "output_type": "display_data"
    }
   ],
   "source": [
    "# Counting the frequency of each unique value in the column\n",
    "child_records = X_train_with_target.groupby('v025')['m19'].value_counts().unstack(fill_value=0).sort_index()\n",
    "\n",
    "# Plotting the bar graph\n",
    "plt.figure(figsize=(80, 10))  # Adjust width and height as needed\n",
    "\n",
    "child_records.plot(kind='bar', stacked=False, width=0.9)\n",
    "plt.xlabel('Type of place of residence', fontsize ='20', fontname='Arial', color='red')\n",
    "plt.ylabel('Frequency',fontsize ='20', fontname='Arial', color='red')\n",
    "\n",
    "plt.xticks(fontsize=14)  # Set x-axis tick label font size\n",
    "plt.yticks(fontsize=14)\n",
    "\n",
    "plt.title('Type of place of residence by birth weight', fontsize ='20', fontname='Arial', color='red')\n",
    "plt.legend(title='Birth Weights', title_fontsize='10', fontsize ='10')\n",
    "plt.xticks(rotation=0)\n",
    "plt.show()"
   ]
  },
  {
   "cell_type": "markdown",
   "id": "347027be-cf3a-4659-a1f1-e80f5f91b25b",
   "metadata": {},
   "source": [
    "**Where:**\n",
    "  \n",
    "**1:** Urban\n",
    "\n",
    "**2:** Rural"
   ]
  },
  {
   "cell_type": "code",
   "execution_count": 42,
   "id": "dcfefe3a",
   "metadata": {},
   "outputs": [
    {
     "data": {
      "text/plain": [
       "<Figure size 8000x1000 with 0 Axes>"
      ]
     },
     "metadata": {},
     "output_type": "display_data"
    },
    {
     "data": {
      "image/png": "[encoded data removed]",
      "text/plain": [
       "<Figure size 640x480 with 1 Axes>"
      ]
     },
     "metadata": {},
     "output_type": "display_data"
    }
   ],
   "source": [
    "# Counting the frequency of each unique value in the column\n",
    "child_records = X_train_with_target.groupby('m60')['m19'].value_counts().unstack(fill_value=0).sort_index()\n",
    "\n",
    "# Plotting the bar graph\n",
    "plt.figure(figsize=(80, 10))  # Adjust width and height as needed\n",
    "\n",
    "child_records.plot(kind='bar', stacked=False, width=0.9)\n",
    "plt.xlabel('Drugs for Intestinal parasites', fontsize ='20', fontname='Arial', color='red')\n",
    "plt.ylabel('Frequency',fontsize ='20', fontname='Arial', color='red')\n",
    "\n",
    "plt.xticks(fontsize=14)  # Set x-axis tick label font size\n",
    "plt.yticks(fontsize=14)\n",
    "\n",
    "plt.title('Drugs for Intestinal parasites by birth weight', fontsize ='20', fontname='Arial', color='red')\n",
    "plt.legend(title='Birth Weights', title_fontsize='10', fontsize ='10')\n",
    "plt.xticks(rotation=0)\n",
    "plt.show()"
   ]
  },
  {
   "cell_type": "markdown",
   "id": "a557bb73",
   "metadata": {},
   "source": [
    "**Where:** \n",
    "\n",
    "**0:** No\n",
    "\n",
    "**1:** Yes\n",
    "\n",
    "**8** Don't know"
   ]
  },
  {
   "cell_type": "code",
   "execution_count": 43,
   "id": "e88187f8",
   "metadata": {},
   "outputs": [
    {
     "data": {
      "text/plain": [
       "<Figure size 8000x1000 with 0 Axes>"
      ]
     },
     "metadata": {},
     "output_type": "display_data"
    },
    {
     "data": {
      "image/png": "[encoded data removed]",
      "text/plain": [
       "<Figure size 640x480 with 1 Axes>"
      ]
     },
     "metadata": {},
     "output_type": "display_data"
    }
   ],
   "source": [
    "# Counting the frequency of each unique value in the column\n",
    "child_records = X_train_with_target.groupby('v106')['m19'].value_counts().unstack(fill_value=0).sort_index()\n",
    "\n",
    "# Plotting the bar graph\n",
    "plt.figure(figsize=(80, 10))  # Adjust width and height as needed\n",
    "\n",
    "child_records.plot(kind='bar', stacked=False, width=0.9)\n",
    "plt.xlabel('Educational level', fontsize ='20', fontname='Arial', color='red')\n",
    "plt.ylabel('Frequency',fontsize ='20', fontname='Arial', color='red')\n",
    "\n",
    "plt.xticks(fontsize=14)  # Set x-axis tick label font size\n",
    "plt.yticks(fontsize=14)\n",
    "\n",
    "plt.title('Educational level by birth weight', fontsize ='20', fontname='Arial', color='red')\n",
    "plt.legend(title='Birth Weights', title_fontsize='10', fontsize ='10')\n",
    "plt.xticks(rotation=0)\n",
    "plt.show()"
   ]
  },
  {
   "cell_type": "markdown",
   "id": "80832fa7-0c52-4c9b-a5dc-56a4fcb69b73",
   "metadata": {},
   "source": [
    "**Where:** \n",
    "\n",
    "**0:** No education\n",
    "\n",
    "**1:** Primary\n",
    "\n",
    "**2:** Secondary\n",
    "\n",
    "**3:** Higher"
   ]
  },
  {
   "cell_type": "code",
   "execution_count": 44,
   "id": "05216d4c",
   "metadata": {},
   "outputs": [
    {
     "data": {
      "text/plain": [
       "<Figure size 1200x800 with 0 Axes>"
      ]
     },
     "metadata": {},
     "output_type": "display_data"
    },
    {
     "data": {
      "image/png": "[encoded data removed]",
      "text/plain": [
       "<Figure size 640x480 with 1 Axes>"
      ]
     },
     "metadata": {},
     "output_type": "display_data"
    }
   ],
   "source": [
    "# Counting the frequency of each unique value in the column\n",
    "child_records = X_train_with_target.groupby('v012')['m19'].value_counts().unstack(fill_value=0).sort_index()\n",
    "\n",
    "# Plotting the vertical bar chart\n",
    "plt.figure(figsize=(12, 8))  # Adjust width and height as needed\n",
    "\n",
    "# Creating the vertical bar chart\n",
    "child_records.plot(kind='bar', stacked=False, width=0.9)\n",
    "\n",
    "plt.xlabel('Respondent age', fontsize=20, fontname='Arial', color='red')\n",
    "plt.ylabel('Frequency', fontsize=20, fontname='Arial', color='red')\n",
    "\n",
    "plt.xticks(fontsize=14, rotation=0)  # Set x-axis tick label font size and rotation\n",
    "plt.yticks(fontsize=14)  # Set y-axis tick label font size\n",
    "\n",
    "plt.title('Respondent age by birth weight', fontsize=20, fontname='Arial', color='red')\n",
    "plt.legend(title='Birth Weights', title_fontsize='10', fontsize=10)\n",
    "plt.xticks()\n",
    "plt.show()\n"
   ]
  },
  {
   "cell_type": "markdown",
   "id": "f8988580-99ab-4a43-945d-072df7a6d691",
   "metadata": {},
   "source": [
    "**Where:** \n",
    "\n",
    "**0:** 15-19\n",
    "\n",
    "**1:** 20-24\n",
    "\n",
    "**2:** 25-29\n",
    "\n",
    "**3:** 30-34\n",
    "\n",
    "**4:** 35-49"
   ]
  },
  {
   "cell_type": "code",
   "execution_count": 45,
   "id": "f0377394",
   "metadata": {},
   "outputs": [
    {
     "data": {
      "text/plain": [
       "<Figure size 1200x800 with 0 Axes>"
      ]
     },
     "metadata": {},
     "output_type": "display_data"
    },
    {
     "data": {
      "image/png": "[encoded data removed]",
      "text/plain": [
       "<Figure size 640x480 with 1 Axes>"
      ]
     },
     "metadata": {},
     "output_type": "display_data"
    }
   ],
   "source": [
    "# Counting the frequency of each unique value in the column\n",
    "child_records = X_train_with_target.groupby('m14')['m19'].value_counts().unstack(fill_value=0).sort_index()\n",
    "\n",
    "# Plotting the vertical bar chart\n",
    "plt.figure(figsize=(12, 8))  # Adjust width and height as needed\n",
    "\n",
    "# Creating the vertical bar chart\n",
    "child_records.plot(kind='bar', stacked=False, width=0.9)\n",
    "\n",
    "plt.xlabel('ANC visits', fontsize=20, fontname='Arial', color='red')\n",
    "plt.ylabel('Frequency', fontsize=20, fontname='Arial', color='red')\n",
    "\n",
    "plt.xticks(fontsize=14, rotation=0)  # Set x-axis tick label font size and rotation\n",
    "plt.yticks(fontsize=14)  # Set y-axis tick label font size\n",
    "\n",
    "plt.title('ANC visits by birth weight', fontsize=20, fontname='Arial', color='red')\n",
    "plt.legend(title='Birth Weights', title_fontsize='10', fontsize=10)\n",
    "plt.xticks(rotation=0)\n",
    "plt.show()\n"
   ]
  },
  {
   "cell_type": "markdown",
   "id": "a6734002-5578-4f9f-87d8-3933f2cdab0f",
   "metadata": {},
   "source": [
    "**Where:** \n",
    "\n",
    "**0:** ANC vists < 4\n",
    "\n",
    "**1:** ANC visits >= 4"
   ]
  },
  {
   "cell_type": "code",
   "execution_count": 46,
   "id": "41392140",
   "metadata": {},
   "outputs": [
    {
     "data": {
      "text/plain": [
       "<Figure size 1200x800 with 0 Axes>"
      ]
     },
     "metadata": {},
     "output_type": "display_data"
    },
    {
     "data": {
      "image/png": "[encoded data removed]",
      "text/plain": [
       "<Figure size 640x480 with 1 Axes>"
      ]
     },
     "metadata": {},
     "output_type": "display_data"
    }
   ],
   "source": [
    "# Counting the frequency of each unique value in the column\n",
    "child_records = X_train_with_target.groupby('v238')['m19'].value_counts().unstack(fill_value=0).sort_index()\n",
    "\n",
    "# Plotting the vertical bar chart\n",
    "plt.figure(figsize=(12, 8))  # Adjust width and height as needed\n",
    "\n",
    "# Creating the vertical bar chart\n",
    "child_records.plot(kind='bar', stacked=False, width=0.9)\n",
    "\n",
    "plt.xlabel('Births in last three years', fontsize=20, fontname='Arial', color='red')\n",
    "plt.ylabel('Frequency', fontsize=20, fontname='Arial', color='red')\n",
    "\n",
    "plt.xticks(fontsize=14, rotation=0)  # Set x-axis tick label font size and rotation\n",
    "plt.yticks(fontsize=14)  # Set y-axis tick label font size\n",
    "\n",
    "plt.title('Births in last three years by birth weight', fontsize=20, fontname='Arial', color='red')\n",
    "plt.legend(title='Birth Weights', title_fontsize='10', fontsize=10)\n",
    "plt.xticks()\n",
    "plt.show()\n"
   ]
  },
  {
   "cell_type": "markdown",
   "id": "09f36ba1",
   "metadata": {},
   "source": [
    "## Model training using various classification algorithms"
   ]
  },
  {
   "cell_type": "markdown",
   "id": "79cf3a6a",
   "metadata": {},
   "source": [
    "### 1st Evaluation Metric:  Accuracy"
   ]
  },
  {
   "cell_type": "code",
   "execution_count": 59,
   "id": "d9211b0a-5ef0-418c-bae2-a1549e4aef5b",
   "metadata": {},
   "outputs": [
    {
     "ename": "TypeError",
     "evalue": "BaggingClassifier.__init__() got an unexpected keyword argument 'base_estimator'",
     "output_type": "error",
     "traceback": [
      "\u001b[0;31m---------------------------------------------------------------------------\u001b[0m",
      "\u001b[0;31mTypeError\u001b[0m                                 Traceback (most recent call last)",
      "Cell \u001b[0;32mIn[59], line 23\u001b[0m\n\u001b[1;32m     21\u001b[0m \u001b[38;5;66;03m# Initialize classifiers\u001b[39;00m\n\u001b[1;32m     22\u001b[0m hist_gradient_boosting_classifier \u001b[38;5;241m=\u001b[39m HistGradientBoostingClassifier(random_state\u001b[38;5;241m=\u001b[39m\u001b[38;5;241m0\u001b[39m)\n\u001b[0;32m---> 23\u001b[0m bagging_classifier \u001b[38;5;241m=\u001b[39m \u001b[43mBaggingClassifier\u001b[49m\u001b[43m(\u001b[49m\u001b[43mbase_estimator\u001b[49m\u001b[38;5;241;43m=\u001b[39;49m\u001b[43mDecisionTreeClassifier\u001b[49m\u001b[43m(\u001b[49m\u001b[43m)\u001b[49m\u001b[43m,\u001b[49m\u001b[43m \u001b[49m\u001b[43mrandom_state\u001b[49m\u001b[38;5;241;43m=\u001b[39;49m\u001b[38;5;241;43m0\u001b[39;49m\u001b[43m)\u001b[49m\n\u001b[1;32m     24\u001b[0m dt_classifier \u001b[38;5;241m=\u001b[39m DecisionTreeClassifier(random_state\u001b[38;5;241m=\u001b[39m\u001b[38;5;241m0\u001b[39m)\n\u001b[1;32m     25\u001b[0m random_forest_classifier \u001b[38;5;241m=\u001b[39m RandomForestClassifier(random_state\u001b[38;5;241m=\u001b[39m\u001b[38;5;241m0\u001b[39m)\n",
      "\u001b[0;31mTypeError\u001b[0m: BaggingClassifier.__init__() got an unexpected keyword argument 'base_estimator'"
     ]
    }
   ],
   "source": [
    "from sklearn.ensemble import HistGradientBoostingClassifier, BaggingClassifier, RandomForestClassifier\n",
    "from sklearn.tree import DecisionTreeClassifier\n",
    "from sklearn.metrics import accuracy_score, f1_score, confusion_matrix\n",
    "from imblearn.over_sampling import SMOTE\n",
    "from sklearn.impute import SimpleImputer\n",
    "import matplotlib.pyplot as plt\n",
    "import seaborn as sns\n",
    "\n",
    "# Initialize SMOTE\n",
    "smote = SMOTE(random_state=0)\n",
    "\n",
    "# Apply SMOTE to balance the classes\n",
    "X_train_balanced, y_train_balanced = smote.fit_resample(X_train, y_train)\n",
    "\n",
    "# Initialize SimpleImputer with mean strategy\n",
    "imputer = SimpleImputer(strategy='mean')\n",
    "\n",
    "# Fit and transform the imputer on X_train_balanced\n",
    "X_train_balanced_imputed = imputer.fit_transform(X_train_balanced)\n",
    "\n",
    "# Initialize classifiers\n",
    "hist_gradient_boosting_classifier = HistGradientBoostingClassifier(random_state=0)\n",
    "bagging_classifier = BaggingClassifier(base_estimator=DecisionTreeClassifier(), random_state=0)\n",
    "dt_classifier = DecisionTreeClassifier(random_state=0)\n",
    "random_forest_classifier = RandomForestClassifier(random_state=0)\n",
    "\n",
    "# List of classifiers\n",
    "classifiers = {\n",
    "    \"HistGradientBoosting Classifier\": hist_gradient_boosting_classifier,\n",
    "    \"Bagging Classifier\": bagging_classifier,\n",
    "    \"Decision Tree Classifier\": dt_classifier,\n",
    "    \"Random Forest Classifier\": random_forest_classifier,\n",
    "}\n",
    "\n",
    "# Function to calculate and print accuracy for each classifier\n",
    "def calculate_accuracy():\n",
    "    for clf_name, clf in classifiers.items():\n",
    "        # Train the classifier\n",
    "        clf.fit(X_train_balanced_imputed, y_train_balanced)\n",
    "\n",
    "        # Transform X_test with the fitted imputer (only transform, no fit)\n",
    "        X_test_imputed = imputer.transform(X_test)\n",
    "\n",
    "        # Predict on X_test\n",
    "        y_pred = clf.predict(X_test_imputed)\n",
    "\n",
    "        # Calculate accuracy\n",
    "        accuracy = accuracy_score(y_test, y_pred)\n",
    "        print(f\"{clf_name} Accuracy: {accuracy:.4f}\")\n",
    "\n",
    "# Calculate and print accuracy for each classifier\n",
    "calculate_accuracy()\n"
   ]
  },
  {
   "cell_type": "markdown",
   "id": "ae87934e",
   "metadata": {},
   "source": [
    "### 2nd Evaluation Metric: F1 score"
   ]
  },
  {
   "cell_type": "code",
   "execution_count": null,
   "id": "15891531-ab9a-4f2f-93c0-bee860a205a2",
   "metadata": {},
   "outputs": [
    {
     "name": "stdout",
     "output_type": "stream",
     "text": [
      "HistGradientBoosting Classifier F1 Score: 0.8175\n",
      "Bagging Classifier F1 Score: 0.7863\n",
      "Decision Tree Classifier F1 Score: 0.7976\n",
      "Random Forest Classifier F1 Score: 0.7957\n"
     ]
    }
   ],
   "source": [
    "# Function to calculate and print F1 score for each classifier\n",
    "def calculate_f1_score():\n",
    "    for clf_name, clf in classifiers.items():\n",
    "        # Train the classifier\n",
    "        clf.fit(X_train_balanced_imputed, y_train_balanced)\n",
    "\n",
    "        # Transform X_test with the fitted imputer (only transform, no fit)\n",
    "        X_test_imputed = imputer.transform(X_test)\n",
    "\n",
    "        # Predict on X_test\n",
    "        y_pred = clf.predict(X_test_imputed)\n",
    "\n",
    "        # Calculate F1 score\n",
    "        f1 = f1_score(y_test, y_pred, average='weighted')\n",
    "        print(f\"{clf_name} F1 Score: {f1:.4f}\")\n",
    "\n",
    "# Calculate and print F1 score for each classifier\n",
    "calculate_f1_score()\n"
   ]
  },
  {
   "cell_type": "markdown",
   "id": "210a0098",
   "metadata": {},
   "source": [
    "### 3rd Evaluation Metric: Confusion Matrix "
   ]
  },
  {
   "cell_type": "code",
   "execution_count": null,
   "id": "c66725ea-8149-4482-af21-402af7282b54",
   "metadata": {},
   "outputs": [
    {
     "name": "stdout",
     "output_type": "stream",
     "text": [
      "Confusion Matrix for HistGradientBoosting Classifier:\n",
      "[[697 129]\n",
      " [ 61  14]]\n"
     ]
    },
    {
     "data": {
      "image/png": "[encoded data removed]",
      "text/plain": [
       "<Figure size 800x600 with 1 Axes>"
      ]
     },
     "metadata": {},
     "output_type": "display_data"
    },
    {
     "name": "stdout",
     "output_type": "stream",
     "text": [
      "Confusion Matrix for Bagging Classifier:\n",
      "[[656 170]\n",
      " [ 63  12]]\n"
     ]
    },
    {
     "data": {
      "image/png": "[encoded data removed]",
      "text/plain": [
       "<Figure size 800x600 with 1 Axes>"
      ]
     },
     "metadata": {},
     "output_type": "display_data"
    },
    {
     "name": "stdout",
     "output_type": "stream",
     "text": [
      "Confusion Matrix for Decision Tree Classifier:\n",
      "[[672 154]\n",
      " [ 63  12]]\n"
     ]
    },
    {
     "data": {
      "image/png": "[encoded data removed]",
      "text/plain": [
       "<Figure size 800x600 with 1 Axes>"
      ]
     },
     "metadata": {},
     "output_type": "display_data"
    },
    {
     "name": "stdout",
     "output_type": "stream",
     "text": [
      "Confusion Matrix for Random Forest Classifier:\n",
      "[[671 155]\n",
      " [ 64  11]]\n"
     ]
    },
    {
     "data": {
      "image/png": "[encoded data removed]",
      "text/plain": [
       "<Figure size 800x600 with 1 Axes>"
      ]
     },
     "metadata": {},
     "output_type": "display_data"
    }
   ],
   "source": [
    "from sklearn.ensemble import HistGradientBoostingClassifier, BaggingClassifier, RandomForestClassifier\n",
    "from sklearn.tree import DecisionTreeClassifier\n",
    "from sklearn.metrics import confusion_matrix, ConfusionMatrixDisplay\n",
    "from imblearn.over_sampling import SMOTE\n",
    "from sklearn.impute import SimpleImputer\n",
    "import matplotlib.pyplot as plt\n",
    "import numpy as np\n",
    "\n",
    "# Initialize SMOTE\n",
    "smote = SMOTE(random_state=0)\n",
    "\n",
    "# Apply SMOTE to balance the classes\n",
    "X_train_balanced, y_train_balanced = smote.fit_resample(X_train, y_train)\n",
    "\n",
    "# Initialize SimpleImputer with mean strategy\n",
    "imputer = SimpleImputer(strategy='mean')\n",
    "\n",
    "# Fit and transform the imputer on X_train_balanced\n",
    "X_train_balanced_imputed = imputer.fit_transform(X_train_balanced)\n",
    "\n",
    "# Initialize classifiers\n",
    "hist_gradient_boosting_classifier = HistGradientBoostingClassifier(random_state=0)\n",
    "bagging_classifier = BaggingClassifier(base_estimator=DecisionTreeClassifier(), random_state=0)\n",
    "dt_classifier = DecisionTreeClassifier(random_state=0)\n",
    "random_forest_classifier = RandomForestClassifier(random_state=0)\n",
    "\n",
    "# List of classifiers\n",
    "classifiers = {\n",
    "    \"HistGradientBoosting Classifier\": hist_gradient_boosting_classifier,\n",
    "    \"Bagging Classifier\": bagging_classifier,\n",
    "    \"Decision Tree Classifier\": dt_classifier,\n",
    "    \"Random Forest Classifier\": random_forest_classifier,\n",
    "}\n",
    "\n",
    "# Function to generate confusion matrix for each classifier\n",
    "def generate_confusion_matrix():\n",
    "    classes = sorted(np.unique(y_test))  # Get unique classes from y_test\n",
    "    for clf_name, clf in classifiers.items():\n",
    "        # Train the classifier\n",
    "        clf.fit(X_train_balanced_imputed, y_train_balanced)\n",
    "\n",
    "        # Transform X_test with the fitted imputer (only transform, no fit)\n",
    "        X_test_imputed = imputer.transform(X_test)\n",
    "\n",
    "        # Predict on X_test\n",
    "        y_pred = clf.predict(X_test_imputed)\n",
    "\n",
    "        # Generate confusion matrix\n",
    "        conf_matrix = confusion_matrix(y_test, y_pred, labels=classes)\n",
    "        print(f\"Confusion Matrix for {clf_name}:\")\n",
    "        print(conf_matrix)\n",
    "\n",
    "        # Plot confusion matrix using ConfusionMatrixDisplay\n",
    "        cm_display = ConfusionMatrixDisplay(conf_matrix, display_labels=classes)\n",
    "\n",
    "        # Plot confusion matrix with ConfusionMatrixDisplay and adjust annotations\n",
    "        fig, ax = plt.subplots(figsize=(8, 6))\n",
    "        cm_display.plot(ax=ax, cmap='coolwarm', colorbar=False)\n",
    "\n",
    "        plt.xlabel('Predicted labels', fontsize=15)\n",
    "        plt.ylabel('True labels', fontsize=15)\n",
    "        plt.title(f'Confusion Matrix - {clf_name}', fontsize=15)\n",
    "        plt.xticks(fontsize=12)\n",
    "        plt.yticks(fontsize=12)\n",
    "        plt.show()\n",
    "\n",
    "# Generate confusion matrix for each classifier\n",
    "generate_confusion_matrix()\n"
   ]
  },
  {
   "cell_type": "code",
   "execution_count": null,
   "id": "ec0677ee-ad42-40f8-969f-dc8025ced4d2",
   "metadata": {},
   "outputs": [
    {
     "name": "stdout",
     "output_type": "stream",
     "text": [
      "Algorithm: BaggingClassifier\n",
      "Cross-Validation Results: [0.91666667 0.9125     0.90416667 0.89722222 0.93055556]\n",
      "Mean Accuracy: 0.9122\n",
      "\n",
      "Algorithm: RandomForestClassifier\n",
      "Cross-Validation Results: [0.92222222 0.90972222 0.90833333 0.9125     0.9375    ]\n",
      "Mean Accuracy: 0.9181\n",
      "\n",
      "Algorithm: HistGradientBoostingClassifier\n",
      "Cross-Validation Results: [0.92361111 0.92083333 0.92361111 0.92222222 0.93611111]\n",
      "Mean Accuracy: 0.9253\n",
      "\n"
     ]
    }
   ],
   "source": [
    "from sklearn.model_selection import cross_val_score, KFold\n",
    "from sklearn.ensemble import BaggingClassifier, RandomForestClassifier\n",
    "from sklearn.tree import DecisionTreeClassifier\n",
    "from sklearn.experimental import enable_hist_gradient_boosting\n",
    "from sklearn.ensemble import HistGradientBoostingClassifier\n",
    "from sklearn.metrics import accuracy_score\n",
    "from sklearn.preprocessing import StandardScaler\n",
    "import numpy as np\n",
    "\n",
    "# Initialize the classifiers\n",
    "classifiers = [\n",
    "    BaggingClassifier(base_estimator=DecisionTreeClassifier(), random_state=0),\n",
    "    RandomForestClassifier(random_state=0),\n",
    "    HistGradientBoostingClassifier(random_state=0)\n",
    "]\n",
    "\n",
    "# Perform cross-validation\n",
    "kfold = KFold(n_splits=5, shuffle=True, random_state=42)\n",
    "\n",
    "results = []\n",
    "for clf in classifiers:\n",
    "    scores = cross_val_score(clf, X_train, y_train, cv=kfold, scoring='accuracy')\n",
    "    results.append(scores)\n",
    "\n",
    "# Print the results\n",
    "for i, clf in enumerate(classifiers):\n",
    "    print(f\"Algorithm: {clf.__class__.__name__}\")\n",
    "    print(f\"Cross-Validation Results: {results[i]}\")\n",
    "    print(f\"Mean Accuracy: {results[i].mean():.4f}\")\n",
    "    print()\n"
   ]
  },
  {
   "cell_type": "markdown",
   "id": "c325b9a6-2115-4c4a-83e1-4dc989fc0f03",
   "metadata": {},
   "source": [
    "- **HistGradientBoostingClassifier (0.9253)** is the top-performing algorithm on this dataset.\n",
    "- The differences in mean accuracy between these algorithms are relatively small, indicating that the choice of algorithm may not be critical for this particular problem."
   ]
  },
  {
   "cell_type": "code",
   "execution_count": 48,
   "id": "fcf88283-1b69-45c5-aadf-af1dfdbc29bb",
   "metadata": {},
   "outputs": [
    {
     "data": {
      "text/plain": [
       "['/Users/kalokola/group5/Low-Birth-Weight-Prediction-app/MODEL/histgradientboosting-model.pkl']"
      ]
     },
     "execution_count": 48,
     "metadata": {},
     "output_type": "execute_result"
    }
   ],
   "source": [
    "import joblib\n",
    "joblib.dump(hist_gradient_boosting_classifier,'/Users/kalokola/group5/Low-Birth-Weight-Prediction-app/MODEL/histgradientboosting-model.pkl')\n",
    "#C:\\\\Users\\\\ELITEX21012G2\\\\Desktop\\\\LBW Prediction\\\\DATA\\\\"
   ]
  },
  {
   "cell_type": "code",
   "execution_count": 60,
   "id": "f57f72b8",
   "metadata": {},
   "outputs": [
    {
     "name": "stdout",
     "output_type": "stream",
     "text": [
      " Accuracy: 0.7636\n"
     ]
    }
   ],
   "source": [
    "# Train the classifier\n",
    "hist_gradient_boosting_classifier.fit(X_train_balanced_imputed, y_train_balanced)\n",
    "\n",
    "# Transform X_test with the fitted imputer (only transform, no fit)\n",
    "X_test_imputed = imputer.transform(X_test)\n",
    "\n",
    "# Predict on X_test\n",
    "y_pred = hist_gradient_boosting_classifier.predict(X_test_imputed)\n",
    "\n",
    "# Calculate accuracy\n",
    "accuracy = accuracy_score(y_test, y_pred)\n",
    "print(f\" Accuracy: {accuracy:.4f}\")"
   ]
  },
  {
   "cell_type": "code",
   "execution_count": 61,
   "id": "4a799734",
   "metadata": {},
   "outputs": [
    {
     "data": {
      "text/plain": [
       "['/Users/kalokola/group5/Low-Birth-Weight-Prediction-app/MODEL/greens.pkl']"
      ]
     },
     "execution_count": 61,
     "metadata": {},
     "output_type": "execute_result"
    }
   ],
   "source": [
    "import joblib\n",
    "joblib.dump(hist_gradient_boosting_classifier,'/Users/kalokola/group5/Low-Birth-Weight-Prediction-app/MODEL/greens.pkl')\n",
    "#C:\\\\Users\\\\ELITEX21012G2\\\\Desktop\\\\LBW Prediction\\\\DATA\\\\"
   ]
  },
  {
   "cell_type": "code",
   "execution_count": 63,
   "id": "b56eb0ec-423a-4dcc-9232-31ba4c59f5fc",
   "metadata": {},
   "outputs": [],
   "source": [
    "from sklearn.experimental import enable_hist_gradient_boosting\n",
    "from sklearn.ensemble import HistGradientBoostingClassifier\n",
    "\n",
    "# Assuming your model is already trained and saved as 'hist_gradient_boost_model.pkl'\n",
    "# Load the trained model\n",
    "# model_path = '/Users/kalokola/group5/Low-Birth-Weight-Prediction-app/MODEL/histgradientboosting-model.pkl'\n",
    "model_path = '/Users/kalokola/group5/Low-Birth-Weight-Prediction-app/MODEL/greens.pkl'\n",
    "hey = joblib.load(model_path)\n"
   ]
  },
  {
   "cell_type": "code",
   "execution_count": 68,
   "id": "653946e1",
   "metadata": {},
   "outputs": [
    {
     "data": {
      "text/plain": [
       "[3.0, 1.0, 1.0, 5.0, 1.0, 0.0, 1.0, 0.0, 1.0]"
      ]
     },
     "execution_count": 68,
     "metadata": {},
     "output_type": "execute_result"
    }
   ],
   "source": [
    "list(X_test.iloc[0])"
   ]
  },
  {
   "cell_type": "code",
   "execution_count": 66,
   "id": "3d4e5f80",
   "metadata": {},
   "outputs": [
    {
     "data": {
      "text/plain": [
       "array([0])"
      ]
     },
     "execution_count": 66,
     "metadata": {},
     "output_type": "execute_result"
    }
   ],
   "source": [
    "hey.predict((X_test.iloc[0],))"
   ]
  },
  {
   "cell_type": "code",
   "execution_count": 144,
   "id": "bae49e62-9bc1-443a-a9b9-de1cb5659e81",
   "metadata": {},
   "outputs": [
    {
     "name": "stdout",
     "output_type": "stream",
     "text": [
      "Requirement already satisfied: streamlit in c:\\users\\elitex21012g2\\anaconda3\\lib\\site-packages (1.30.0)\n",
      "Requirement already satisfied: altair<6,>=4.0 in c:\\users\\elitex21012g2\\anaconda3\\lib\\site-packages (from streamlit) (5.0.1)\n",
      "Requirement already satisfied: blinker<2,>=1.0.0 in c:\\users\\elitex21012g2\\anaconda3\\lib\\site-packages (from streamlit) (1.6.2)\n",
      "Requirement already satisfied: cachetools<6,>=4.0 in c:\\users\\elitex21012g2\\anaconda3\\lib\\site-packages (from streamlit) (4.2.2)\n",
      "Requirement already satisfied: click<9,>=7.0 in c:\\users\\elitex21012g2\\anaconda3\\lib\\site-packages (from streamlit) (8.1.7)\n",
      "Requirement already satisfied: importlib-metadata<8,>=1.4 in c:\\users\\elitex21012g2\\anaconda3\\lib\\site-packages (from streamlit) (7.0.1)\n",
      "Requirement already satisfied: numpy<2,>=1.19.3 in c:\\users\\elitex21012g2\\anaconda3\\lib\\site-packages (from streamlit) (1.26.4)\n",
      "Requirement already satisfied: packaging<24,>=16.8 in c:\\users\\elitex21012g2\\anaconda3\\lib\\site-packages (from streamlit) (23.1)\n",
      "Requirement already satisfied: pandas<3,>=1.3.0 in c:\\users\\elitex21012g2\\anaconda3\\lib\\site-packages (from streamlit) (2.2.2)\n",
      "Requirement already satisfied: pillow<11,>=7.1.0 in c:\\users\\elitex21012g2\\anaconda3\\lib\\site-packages (from streamlit) (10.2.0)\n",
      "Requirement already satisfied: protobuf<5,>=3.20 in c:\\users\\elitex21012g2\\anaconda3\\lib\\site-packages (from streamlit) (3.20.3)\n",
      "Requirement already satisfied: pyarrow>=6.0 in c:\\users\\elitex21012g2\\anaconda3\\lib\\site-packages (from streamlit) (14.0.2)\n",
      "Requirement already satisfied: python-dateutil<3,>=2.7.3 in c:\\users\\elitex21012g2\\anaconda3\\lib\\site-packages (from streamlit) (2.8.2)\n",
      "Requirement already satisfied: requests<3,>=2.27 in c:\\users\\elitex21012g2\\anaconda3\\lib\\site-packages (from streamlit) (2.31.0)\n",
      "Requirement already satisfied: rich<14,>=10.14.0 in c:\\users\\elitex21012g2\\anaconda3\\lib\\site-packages (from streamlit) (13.3.5)\n",
      "Requirement already satisfied: tenacity<9,>=8.1.0 in c:\\users\\elitex21012g2\\anaconda3\\lib\\site-packages (from streamlit) (8.2.2)\n",
      "Requirement already satisfied: toml<2,>=0.10.1 in c:\\users\\elitex21012g2\\anaconda3\\lib\\site-packages (from streamlit) (0.10.2)\n",
      "Requirement already satisfied: typing-extensions<5,>=4.3.0 in c:\\users\\elitex21012g2\\anaconda3\\lib\\site-packages (from streamlit) (4.9.0)\n",
      "Requirement already satisfied: tzlocal<6,>=1.1 in c:\\users\\elitex21012g2\\anaconda3\\lib\\site-packages (from streamlit) (2.1)\n",
      "Requirement already satisfied: validators<1,>=0.2 in c:\\users\\elitex21012g2\\anaconda3\\lib\\site-packages (from streamlit) (0.18.2)\n",
      "Requirement already satisfied: gitpython!=3.1.19,<4,>=3.0.7 in c:\\users\\elitex21012g2\\anaconda3\\lib\\site-packages (from streamlit) (3.1.37)\n",
      "Requirement already satisfied: pydeck<1,>=0.8.0b4 in c:\\users\\elitex21012g2\\anaconda3\\lib\\site-packages (from streamlit) (0.8.0)\n",
      "Requirement already satisfied: tornado<7,>=6.0.3 in c:\\users\\elitex21012g2\\anaconda3\\lib\\site-packages (from streamlit) (6.3.3)\n",
      "Requirement already satisfied: watchdog>=2.1.5 in c:\\users\\elitex21012g2\\anaconda3\\lib\\site-packages (from streamlit) (2.1.6)\n",
      "Requirement already satisfied: jinja2 in c:\\users\\elitex21012g2\\anaconda3\\lib\\site-packages (from altair<6,>=4.0->streamlit) (3.1.3)\n",
      "Requirement already satisfied: jsonschema>=3.0 in c:\\users\\elitex21012g2\\anaconda3\\lib\\site-packages (from altair<6,>=4.0->streamlit) (4.19.2)\n",
      "Requirement already satisfied: toolz in c:\\users\\elitex21012g2\\anaconda3\\lib\\site-packages (from altair<6,>=4.0->streamlit) (0.12.0)\n",
      "Requirement already satisfied: colorama in c:\\users\\elitex21012g2\\anaconda3\\lib\\site-packages (from click<9,>=7.0->streamlit) (0.4.6)\n",
      "Requirement already satisfied: gitdb<5,>=4.0.1 in c:\\users\\elitex21012g2\\anaconda3\\lib\\site-packages (from gitpython!=3.1.19,<4,>=3.0.7->streamlit) (4.0.7)\n",
      "Requirement already satisfied: zipp>=0.5 in c:\\users\\elitex21012g2\\anaconda3\\lib\\site-packages (from importlib-metadata<8,>=1.4->streamlit) (3.17.0)\n",
      "Requirement already satisfied: pytz>=2020.1 in c:\\users\\elitex21012g2\\anaconda3\\lib\\site-packages (from pandas<3,>=1.3.0->streamlit) (2023.3.post1)\n",
      "Requirement already satisfied: tzdata>=2022.7 in c:\\users\\elitex21012g2\\anaconda3\\lib\\site-packages (from pandas<3,>=1.3.0->streamlit) (2023.3)\n",
      "Requirement already satisfied: six>=1.5 in c:\\users\\elitex21012g2\\anaconda3\\lib\\site-packages (from python-dateutil<3,>=2.7.3->streamlit) (1.16.0)\n",
      "Requirement already satisfied: charset-normalizer<4,>=2 in c:\\users\\elitex21012g2\\anaconda3\\lib\\site-packages (from requests<3,>=2.27->streamlit) (2.0.4)\n",
      "Requirement already satisfied: idna<4,>=2.5 in c:\\users\\elitex21012g2\\anaconda3\\lib\\site-packages (from requests<3,>=2.27->streamlit) (3.4)\n",
      "Requirement already satisfied: urllib3<3,>=1.21.1 in c:\\users\\elitex21012g2\\anaconda3\\lib\\site-packages (from requests<3,>=2.27->streamlit) (2.0.7)\n",
      "Requirement already satisfied: certifi>=2017.4.17 in c:\\users\\elitex21012g2\\anaconda3\\lib\\site-packages (from requests<3,>=2.27->streamlit) (2024.2.2)\n",
      "Requirement already satisfied: markdown-it-py<3.0.0,>=2.2.0 in c:\\users\\elitex21012g2\\anaconda3\\lib\\site-packages (from rich<14,>=10.14.0->streamlit) (2.2.0)\n",
      "Requirement already satisfied: pygments<3.0.0,>=2.13.0 in c:\\users\\elitex21012g2\\anaconda3\\lib\\site-packages (from rich<14,>=10.14.0->streamlit) (2.15.1)\n",
      "Requirement already satisfied: decorator>=3.4.0 in c:\\users\\elitex21012g2\\anaconda3\\lib\\site-packages (from validators<1,>=0.2->streamlit) (5.1.1)\n",
      "Requirement already satisfied: smmap<5,>=3.0.1 in c:\\users\\elitex21012g2\\anaconda3\\lib\\site-packages (from gitdb<5,>=4.0.1->gitpython!=3.1.19,<4,>=3.0.7->streamlit) (4.0.0)\n",
      "Requirement already satisfied: MarkupSafe>=2.0 in c:\\users\\elitex21012g2\\anaconda3\\lib\\site-packages (from jinja2->altair<6,>=4.0->streamlit) (2.1.3)\n",
      "Requirement already satisfied: attrs>=22.2.0 in c:\\users\\elitex21012g2\\anaconda3\\lib\\site-packages (from jsonschema>=3.0->altair<6,>=4.0->streamlit) (23.1.0)\n",
      "Requirement already satisfied: jsonschema-specifications>=2023.03.6 in c:\\users\\elitex21012g2\\anaconda3\\lib\\site-packages (from jsonschema>=3.0->altair<6,>=4.0->streamlit) (2023.7.1)\n",
      "Requirement already satisfied: referencing>=0.28.4 in c:\\users\\elitex21012g2\\anaconda3\\lib\\site-packages (from jsonschema>=3.0->altair<6,>=4.0->streamlit) (0.30.2)\n",
      "Requirement already satisfied: rpds-py>=0.7.1 in c:\\users\\elitex21012g2\\anaconda3\\lib\\site-packages (from jsonschema>=3.0->altair<6,>=4.0->streamlit) (0.10.6)\n",
      "Requirement already satisfied: mdurl~=0.1 in c:\\users\\elitex21012g2\\anaconda3\\lib\\site-packages (from markdown-it-py<3.0.0,>=2.2.0->rich<14,>=10.14.0->streamlit) (0.1.0)\n"
     ]
    },
    {
     "name": "stderr",
     "output_type": "stream",
     "text": [
      "WARNING: Ignoring invalid distribution ~atplotlib (C:\\Users\\ELITEX21012G2\\anaconda3\\Lib\\site-packages)\n",
      "WARNING: Ignoring invalid distribution ~atplotlib (C:\\Users\\ELITEX21012G2\\anaconda3\\Lib\\site-packages)\n"
     ]
    }
   ],
   "source": []
  },
  {
   "cell_type": "code",
   "execution_count": null,
   "id": "71a2d969-e24b-4b13-a838-e70d4c778eec",
   "metadata": {},
   "outputs": [],
   "source": []
  }
 ],
 "metadata": {
  "kernelspec": {
   "display_name": "Python 3 (ipykernel)",
   "language": "python",
   "name": "python3"
  },
  "language_info": {
   "codemirror_mode": {
    "name": "ipython",
    "version": 3
   },
   "file_extension": ".py",
   "mimetype": "text/x-python",
   "name": "python",
   "nbconvert_exporter": "python",
   "pygments_lexer": "ipython3",
   "version": "3.12.4"
  }
 },
 "nbformat": 4,
 "nbformat_minor": 5
}
